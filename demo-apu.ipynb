{
 "cells": [
  {
   "cell_type": "markdown",
   "id": "5853fcd7",
   "metadata": {
    "papermill": {
     "duration": 0.023963,
     "end_time": "2024-10-14T20:27:36.096076",
     "exception": false,
     "start_time": "2024-10-14T20:27:36.072113",
     "status": "completed"
    },
    "tags": []
   },
   "source": [
    "#### Imports and helper functions"
   ]
  },
  {
   "cell_type": "code",
   "execution_count": 6,
   "id": "939373ed",
   "metadata": {
    "execution": {
     "iopub.execute_input": "2024-10-14T20:27:36.147846Z",
     "iopub.status.busy": "2024-10-14T20:27:36.146198Z",
     "iopub.status.idle": "2024-10-14T20:27:39.511851Z",
     "shell.execute_reply": "2024-10-14T20:27:39.510885Z"
    },
    "jupyter": {
     "source_hidden": true
    },
    "papermill": {
     "duration": 3.394095,
     "end_time": "2024-10-14T20:27:39.514713",
     "exception": false,
     "start_time": "2024-10-14T20:27:36.120618",
     "status": "completed"
    },
    "tags": []
   },
   "outputs": [],
   "source": [
    "import pandas as pd\n",
    "import numpy as np\n",
    "import matplotlib.pyplot as plt\n",
    "import seaborn as sns\n",
    "from sklearn import ensemble, tree, linear_model\n",
    "from sklearn.model_selection import train_test_split, cross_val_score\n",
    "from sklearn.metrics import r2_score, mean_squared_error\n",
    "from sklearn.utils import shuffle\n",
    "from scipy.stats import norm, probplot \n",
    "\n",
    "%matplotlib inline\n",
    "import warnings\n",
    "warnings.filterwarnings('ignore')\n",
    "\n",
    "\n",
    "pd.set_option('display.float_format', lambda x: '{:.3f}'.format(x)) #Limiting floats output to 3 decimal points\n",
    "\n",
    "\n",
    "from subprocess import check_output\n",
    "\n",
    "def find_missing_values(df):\n",
    "    df_nas = df.isnull().sum()\n",
    "    df_nas = df_nas[df_nas>0]\n",
    "    df_nas = df_nas.sort_values(ascending=False)\n",
    "    return df_nas\n",
    "    \n",
    "    \n",
    "def handle_missing_data(df):\n",
    "    \"\"\"This function handles all types of missing data form the dataframe.\"\"\"\n",
    "    \n",
    "    # We will replace the NA values in this feature as None which mean no Pool\n",
    "    df[\"PoolQC\"] = df[\"PoolQC\"].fillna(\"None\")\n",
    "    # MiscFeature : data description says NA means \"no misc feature\"\n",
    "    df[\"MiscFeature\"] = df[\"MiscFeature\"].fillna(\"None\")\n",
    "    # Alley : data description says NA means \"no alley access\"\n",
    "    df[\"Alley\"] = df[\"Alley\"].fillna(\"None\")\n",
    "    # Fence : data description says NA means \"no fence\"\n",
    "    df[\"Fence\"] = df[\"Fence\"].fillna(\"None\")\n",
    "    # FireplaceQu : data description says NA means \"no fireplace\"\n",
    "    df[\"FireplaceQu\"] = df[\"FireplaceQu\"].fillna(\"None\")\n",
    "    # LotFrontage : Since the area of each street connected to the house property most likely have a similar area to other houses in its neighborhood , we can fill in missing values by the median LotFrontage of the neighborhood.\n",
    "    # Group by neighborhood and fill in missing value by the median LotFrontage of all the neighborhood\n",
    "    df[\"LotFrontage\"] = df.groupby(\"Neighborhood\")[\"LotFrontage\"].transform(\n",
    "        lambda x: x.fillna(x.median()))\n",
    "    # GarageType, GarageFinish, GarageQual and GarageCond : Replacing missing data with None\n",
    "    for col in ('GarageType', 'GarageFinish', 'GarageQual', 'GarageCond'):\n",
    "        df[col] = df[col].fillna('None')\n",
    "    # GarageYrBlt, GarageArea and GarageCars : Replacing missing data with 0 (Since No garage = no cars in such garage.)\n",
    "    for col in ('GarageYrBlt', 'GarageArea', 'GarageCars'):\n",
    "        df[col] = df[col].fillna(0)\n",
    "    # BsmtFinSF1, BsmtFinSF2, BsmtUnfSF, TotalBsmtSF, BsmtFullBath and BsmtHalfBath : missing values are likely zero for having no basement\n",
    "    for col in ('BsmtFinSF1', 'BsmtFinSF2', 'BsmtUnfSF','TotalBsmtSF', 'BsmtFullBath', 'BsmtHalfBath'):\n",
    "        df[col] = df[col].fillna(0)\n",
    "    # BsmtQual, BsmtCond, BsmtExposure, BsmtFinType1 and BsmtFinType2 : For all these categorical basement-related features, NaN means that there is no basement.\n",
    "    for col in ('BsmtQual', 'BsmtCond', 'BsmtExposure', 'BsmtFinType1', 'BsmtFinType2'):\n",
    "        df[col] = df[col].fillna('None')\n",
    "    # MasVnrArea and MasVnrType : NA most likely means no masonry veneer for these houses. We can fill 0 for the area and None for the type.\n",
    "    df[\"MasVnrType\"] = df[\"MasVnrType\"].fillna(\"None\")\n",
    "    df[\"MasVnrArea\"] = df[\"MasVnrArea\"].fillna(0)\n",
    "    # MSZoning (The general zoning classification) : 'RL' is by far the most common value. So we can fill in missing values with 'RL'\n",
    "    df['MSZoning'] = df['MSZoning'].fillna(df['MSZoning'].mode()[0])\n",
    "    # Utilities : For this categorical feature all records are \"AllPub\", except for one \"NoSeWa\" and 2 NA . Since the house with 'NoSewa' is in the training set, this feature won't help in predictive modelling. We can then safely remove it.\n",
    "    df = df.drop(['Utilities'], axis=1)\n",
    "    # Functional : data description says NA means typical\n",
    "    df[\"Functional\"] = df[\"Functional\"].fillna(\"Typ\")\n",
    "    # Electrical : It has one NA value. Since this feature has mostly 'SBrkr', we can set that for the missing value.\n",
    "    df['Electrical'] = df['Electrical'].fillna(df['Electrical'].mode()[0])\n",
    "    # KitchenQual: Only one NA value, and same as Electrical, we set 'TA' (which is the most frequent) for the missing value in KitchenQual.\n",
    "    df['KitchenQual'] = df['KitchenQual'].fillna(df['KitchenQual'].mode()[0])\n",
    "    # Exterior1st and Exterior2nd : Again Both Exterior 1 & 2 have only one missing value. We will just substitute in the most common string\n",
    "    df['Exterior1st'] = df['Exterior1st'].fillna(df['Exterior1st'].mode()[0])\n",
    "    df['Exterior2nd'] = df['Exterior2nd'].fillna(df['Exterior2nd'].mode()[0])\n",
    "    # SaleType : Fill in again with most frequent which is \"WD\"\n",
    "    df['SaleType'] = df['SaleType'].fillna(df['SaleType'].mode()[0])\n",
    "    # MSSubClass : Na most likely means No building class. We can replace missing values with None\n",
    "    df['MSSubClass'] = df['MSSubClass'].fillna(\"None\")\n",
    "    \n",
    "    return df\n",
    "    \n"
   ]
  },
  {
   "cell_type": "markdown",
   "id": "51979179",
   "metadata": {
    "papermill": {
     "duration": 0.023121,
     "end_time": "2024-10-14T20:27:39.561342",
     "exception": false,
     "start_time": "2024-10-14T20:27:39.538221",
     "status": "completed"
    },
    "tags": []
   },
   "source": [
    "### Data Collection"
   ]
  },
  {
   "cell_type": "code",
   "execution_count": 7,
   "id": "e234b89a",
   "metadata": {
    "execution": {
     "iopub.execute_input": "2024-10-14T20:27:39.609834Z",
     "iopub.status.busy": "2024-10-14T20:27:39.609249Z",
     "iopub.status.idle": "2024-10-14T20:27:39.623485Z",
     "shell.execute_reply": "2024-10-14T20:27:39.622036Z"
    },
    "papermill": {
     "duration": 0.041952,
     "end_time": "2024-10-14T20:27:39.626410",
     "exception": false,
     "start_time": "2024-10-14T20:27:39.584458",
     "status": "completed"
    },
    "tags": []
   },
   "outputs": [
    {
     "name": "stdout",
     "output_type": "stream",
     "text": [
      "data_description.txt\n",
      "sample_submission.csv\n",
      "test.csv\n",
      "train.csv\n",
      "\n"
     ]
    }
   ],
   "source": [
    "print(check_output([\"ls\", \"../input/house-prices-advanced-regression-techniques\"]).decode(\"utf8\")) #check the files available in the directory"
   ]
  },
  {
   "cell_type": "markdown",
   "id": "3ef44760",
   "metadata": {
    "papermill": {
     "duration": 0.023001,
     "end_time": "2024-10-14T20:27:39.673230",
     "exception": false,
     "start_time": "2024-10-14T20:27:39.650229",
     "status": "completed"
    },
    "tags": []
   },
   "source": [
    "##### Read Data from flatfiles to dataframe"
   ]
  },
  {
   "cell_type": "code",
   "execution_count": 8,
   "id": "9549235e",
   "metadata": {
    "execution": {
     "iopub.execute_input": "2024-10-14T20:27:39.724495Z",
     "iopub.status.busy": "2024-10-14T20:27:39.724022Z",
     "iopub.status.idle": "2024-10-14T20:27:39.809089Z",
     "shell.execute_reply": "2024-10-14T20:27:39.807865Z"
    },
    "papermill": {
     "duration": 0.114077,
     "end_time": "2024-10-14T20:27:39.811978",
     "exception": false,
     "start_time": "2024-10-14T20:27:39.697901",
     "status": "completed"
    },
    "tags": []
   },
   "outputs": [],
   "source": [
    "#Now let's import and put the train and test datasets in  pandas dataframe\n",
    "\n",
    "train = pd.read_csv('../input/house-prices-advanced-regression-techniques/train.csv')\n",
    "test = pd.read_csv('../input/house-prices-advanced-regression-techniques/test.csv')"
   ]
  },
  {
   "cell_type": "markdown",
   "id": "ac42a87d",
   "metadata": {
    "papermill": {
     "duration": 0.022763,
     "end_time": "2024-10-14T20:27:39.858421",
     "exception": false,
     "start_time": "2024-10-14T20:27:39.835658",
     "status": "completed"
    },
    "tags": []
   },
   "source": [
    "##### Take a look at the Training and Test Data"
   ]
  },
  {
   "cell_type": "code",
   "execution_count": 9,
   "id": "4a9c18a3",
   "metadata": {
    "execution": {
     "iopub.execute_input": "2024-10-14T20:27:39.906302Z",
     "iopub.status.busy": "2024-10-14T20:27:39.905832Z",
     "iopub.status.idle": "2024-10-14T20:27:39.947927Z",
     "shell.execute_reply": "2024-10-14T20:27:39.946595Z"
    },
    "papermill": {
     "duration": 0.068854,
     "end_time": "2024-10-14T20:27:39.950337",
     "exception": false,
     "start_time": "2024-10-14T20:27:39.881483",
     "status": "completed"
    },
    "tags": []
   },
   "outputs": [
    {
     "data": {
      "text/html": [
       "<div>\n",
       "<style scoped>\n",
       "    .dataframe tbody tr th:only-of-type {\n",
       "        vertical-align: middle;\n",
       "    }\n",
       "\n",
       "    .dataframe tbody tr th {\n",
       "        vertical-align: top;\n",
       "    }\n",
       "\n",
       "    .dataframe thead th {\n",
       "        text-align: right;\n",
       "    }\n",
       "</style>\n",
       "<table border=\"1\" class=\"dataframe\">\n",
       "  <thead>\n",
       "    <tr style=\"text-align: right;\">\n",
       "      <th></th>\n",
       "      <th>Id</th>\n",
       "      <th>MSSubClass</th>\n",
       "      <th>MSZoning</th>\n",
       "      <th>LotFrontage</th>\n",
       "      <th>LotArea</th>\n",
       "      <th>Street</th>\n",
       "      <th>Alley</th>\n",
       "      <th>LotShape</th>\n",
       "      <th>LandContour</th>\n",
       "      <th>Utilities</th>\n",
       "      <th>...</th>\n",
       "      <th>PoolArea</th>\n",
       "      <th>PoolQC</th>\n",
       "      <th>Fence</th>\n",
       "      <th>MiscFeature</th>\n",
       "      <th>MiscVal</th>\n",
       "      <th>MoSold</th>\n",
       "      <th>YrSold</th>\n",
       "      <th>SaleType</th>\n",
       "      <th>SaleCondition</th>\n",
       "      <th>SalePrice</th>\n",
       "    </tr>\n",
       "  </thead>\n",
       "  <tbody>\n",
       "    <tr>\n",
       "      <th>0</th>\n",
       "      <td>1</td>\n",
       "      <td>60</td>\n",
       "      <td>RL</td>\n",
       "      <td>65.000</td>\n",
       "      <td>8450</td>\n",
       "      <td>Pave</td>\n",
       "      <td>NaN</td>\n",
       "      <td>Reg</td>\n",
       "      <td>Lvl</td>\n",
       "      <td>AllPub</td>\n",
       "      <td>...</td>\n",
       "      <td>0</td>\n",
       "      <td>NaN</td>\n",
       "      <td>NaN</td>\n",
       "      <td>NaN</td>\n",
       "      <td>0</td>\n",
       "      <td>2</td>\n",
       "      <td>2008</td>\n",
       "      <td>WD</td>\n",
       "      <td>Normal</td>\n",
       "      <td>208500</td>\n",
       "    </tr>\n",
       "    <tr>\n",
       "      <th>1</th>\n",
       "      <td>2</td>\n",
       "      <td>20</td>\n",
       "      <td>RL</td>\n",
       "      <td>80.000</td>\n",
       "      <td>9600</td>\n",
       "      <td>Pave</td>\n",
       "      <td>NaN</td>\n",
       "      <td>Reg</td>\n",
       "      <td>Lvl</td>\n",
       "      <td>AllPub</td>\n",
       "      <td>...</td>\n",
       "      <td>0</td>\n",
       "      <td>NaN</td>\n",
       "      <td>NaN</td>\n",
       "      <td>NaN</td>\n",
       "      <td>0</td>\n",
       "      <td>5</td>\n",
       "      <td>2007</td>\n",
       "      <td>WD</td>\n",
       "      <td>Normal</td>\n",
       "      <td>181500</td>\n",
       "    </tr>\n",
       "    <tr>\n",
       "      <th>2</th>\n",
       "      <td>3</td>\n",
       "      <td>60</td>\n",
       "      <td>RL</td>\n",
       "      <td>68.000</td>\n",
       "      <td>11250</td>\n",
       "      <td>Pave</td>\n",
       "      <td>NaN</td>\n",
       "      <td>IR1</td>\n",
       "      <td>Lvl</td>\n",
       "      <td>AllPub</td>\n",
       "      <td>...</td>\n",
       "      <td>0</td>\n",
       "      <td>NaN</td>\n",
       "      <td>NaN</td>\n",
       "      <td>NaN</td>\n",
       "      <td>0</td>\n",
       "      <td>9</td>\n",
       "      <td>2008</td>\n",
       "      <td>WD</td>\n",
       "      <td>Normal</td>\n",
       "      <td>223500</td>\n",
       "    </tr>\n",
       "    <tr>\n",
       "      <th>3</th>\n",
       "      <td>4</td>\n",
       "      <td>70</td>\n",
       "      <td>RL</td>\n",
       "      <td>60.000</td>\n",
       "      <td>9550</td>\n",
       "      <td>Pave</td>\n",
       "      <td>NaN</td>\n",
       "      <td>IR1</td>\n",
       "      <td>Lvl</td>\n",
       "      <td>AllPub</td>\n",
       "      <td>...</td>\n",
       "      <td>0</td>\n",
       "      <td>NaN</td>\n",
       "      <td>NaN</td>\n",
       "      <td>NaN</td>\n",
       "      <td>0</td>\n",
       "      <td>2</td>\n",
       "      <td>2006</td>\n",
       "      <td>WD</td>\n",
       "      <td>Abnorml</td>\n",
       "      <td>140000</td>\n",
       "    </tr>\n",
       "    <tr>\n",
       "      <th>4</th>\n",
       "      <td>5</td>\n",
       "      <td>60</td>\n",
       "      <td>RL</td>\n",
       "      <td>84.000</td>\n",
       "      <td>14260</td>\n",
       "      <td>Pave</td>\n",
       "      <td>NaN</td>\n",
       "      <td>IR1</td>\n",
       "      <td>Lvl</td>\n",
       "      <td>AllPub</td>\n",
       "      <td>...</td>\n",
       "      <td>0</td>\n",
       "      <td>NaN</td>\n",
       "      <td>NaN</td>\n",
       "      <td>NaN</td>\n",
       "      <td>0</td>\n",
       "      <td>12</td>\n",
       "      <td>2008</td>\n",
       "      <td>WD</td>\n",
       "      <td>Normal</td>\n",
       "      <td>250000</td>\n",
       "    </tr>\n",
       "  </tbody>\n",
       "</table>\n",
       "<p>5 rows × 81 columns</p>\n",
       "</div>"
      ],
      "text/plain": [
       "   Id  MSSubClass MSZoning  LotFrontage  LotArea Street Alley LotShape  \\\n",
       "0   1          60       RL       65.000     8450   Pave   NaN      Reg   \n",
       "1   2          20       RL       80.000     9600   Pave   NaN      Reg   \n",
       "2   3          60       RL       68.000    11250   Pave   NaN      IR1   \n",
       "3   4          70       RL       60.000     9550   Pave   NaN      IR1   \n",
       "4   5          60       RL       84.000    14260   Pave   NaN      IR1   \n",
       "\n",
       "  LandContour Utilities  ... PoolArea PoolQC Fence MiscFeature MiscVal MoSold  \\\n",
       "0         Lvl    AllPub  ...        0    NaN   NaN         NaN       0      2   \n",
       "1         Lvl    AllPub  ...        0    NaN   NaN         NaN       0      5   \n",
       "2         Lvl    AllPub  ...        0    NaN   NaN         NaN       0      9   \n",
       "3         Lvl    AllPub  ...        0    NaN   NaN         NaN       0      2   \n",
       "4         Lvl    AllPub  ...        0    NaN   NaN         NaN       0     12   \n",
       "\n",
       "  YrSold  SaleType  SaleCondition  SalePrice  \n",
       "0   2008        WD         Normal     208500  \n",
       "1   2007        WD         Normal     181500  \n",
       "2   2008        WD         Normal     223500  \n",
       "3   2006        WD        Abnorml     140000  \n",
       "4   2008        WD         Normal     250000  \n",
       "\n",
       "[5 rows x 81 columns]"
      ]
     },
     "execution_count": 9,
     "metadata": {},
     "output_type": "execute_result"
    }
   ],
   "source": [
    "train.head(5)"
   ]
  },
  {
   "cell_type": "code",
   "execution_count": 10,
   "id": "bc891023",
   "metadata": {
    "execution": {
     "iopub.execute_input": "2024-10-14T20:27:40.000247Z",
     "iopub.status.busy": "2024-10-14T20:27:39.999148Z",
     "iopub.status.idle": "2024-10-14T20:27:40.023018Z",
     "shell.execute_reply": "2024-10-14T20:27:40.021829Z"
    },
    "papermill": {
     "duration": 0.051501,
     "end_time": "2024-10-14T20:27:40.025466",
     "exception": false,
     "start_time": "2024-10-14T20:27:39.973965",
     "status": "completed"
    },
    "tags": []
   },
   "outputs": [
    {
     "data": {
      "text/html": [
       "<div>\n",
       "<style scoped>\n",
       "    .dataframe tbody tr th:only-of-type {\n",
       "        vertical-align: middle;\n",
       "    }\n",
       "\n",
       "    .dataframe tbody tr th {\n",
       "        vertical-align: top;\n",
       "    }\n",
       "\n",
       "    .dataframe thead th {\n",
       "        text-align: right;\n",
       "    }\n",
       "</style>\n",
       "<table border=\"1\" class=\"dataframe\">\n",
       "  <thead>\n",
       "    <tr style=\"text-align: right;\">\n",
       "      <th></th>\n",
       "      <th>Id</th>\n",
       "      <th>MSSubClass</th>\n",
       "      <th>MSZoning</th>\n",
       "      <th>LotFrontage</th>\n",
       "      <th>LotArea</th>\n",
       "      <th>Street</th>\n",
       "      <th>Alley</th>\n",
       "      <th>LotShape</th>\n",
       "      <th>LandContour</th>\n",
       "      <th>Utilities</th>\n",
       "      <th>...</th>\n",
       "      <th>ScreenPorch</th>\n",
       "      <th>PoolArea</th>\n",
       "      <th>PoolQC</th>\n",
       "      <th>Fence</th>\n",
       "      <th>MiscFeature</th>\n",
       "      <th>MiscVal</th>\n",
       "      <th>MoSold</th>\n",
       "      <th>YrSold</th>\n",
       "      <th>SaleType</th>\n",
       "      <th>SaleCondition</th>\n",
       "    </tr>\n",
       "  </thead>\n",
       "  <tbody>\n",
       "    <tr>\n",
       "      <th>0</th>\n",
       "      <td>1461</td>\n",
       "      <td>20</td>\n",
       "      <td>RH</td>\n",
       "      <td>80.000</td>\n",
       "      <td>11622</td>\n",
       "      <td>Pave</td>\n",
       "      <td>NaN</td>\n",
       "      <td>Reg</td>\n",
       "      <td>Lvl</td>\n",
       "      <td>AllPub</td>\n",
       "      <td>...</td>\n",
       "      <td>120</td>\n",
       "      <td>0</td>\n",
       "      <td>NaN</td>\n",
       "      <td>MnPrv</td>\n",
       "      <td>NaN</td>\n",
       "      <td>0</td>\n",
       "      <td>6</td>\n",
       "      <td>2010</td>\n",
       "      <td>WD</td>\n",
       "      <td>Normal</td>\n",
       "    </tr>\n",
       "    <tr>\n",
       "      <th>1</th>\n",
       "      <td>1462</td>\n",
       "      <td>20</td>\n",
       "      <td>RL</td>\n",
       "      <td>81.000</td>\n",
       "      <td>14267</td>\n",
       "      <td>Pave</td>\n",
       "      <td>NaN</td>\n",
       "      <td>IR1</td>\n",
       "      <td>Lvl</td>\n",
       "      <td>AllPub</td>\n",
       "      <td>...</td>\n",
       "      <td>0</td>\n",
       "      <td>0</td>\n",
       "      <td>NaN</td>\n",
       "      <td>NaN</td>\n",
       "      <td>Gar2</td>\n",
       "      <td>12500</td>\n",
       "      <td>6</td>\n",
       "      <td>2010</td>\n",
       "      <td>WD</td>\n",
       "      <td>Normal</td>\n",
       "    </tr>\n",
       "    <tr>\n",
       "      <th>2</th>\n",
       "      <td>1463</td>\n",
       "      <td>60</td>\n",
       "      <td>RL</td>\n",
       "      <td>74.000</td>\n",
       "      <td>13830</td>\n",
       "      <td>Pave</td>\n",
       "      <td>NaN</td>\n",
       "      <td>IR1</td>\n",
       "      <td>Lvl</td>\n",
       "      <td>AllPub</td>\n",
       "      <td>...</td>\n",
       "      <td>0</td>\n",
       "      <td>0</td>\n",
       "      <td>NaN</td>\n",
       "      <td>MnPrv</td>\n",
       "      <td>NaN</td>\n",
       "      <td>0</td>\n",
       "      <td>3</td>\n",
       "      <td>2010</td>\n",
       "      <td>WD</td>\n",
       "      <td>Normal</td>\n",
       "    </tr>\n",
       "    <tr>\n",
       "      <th>3</th>\n",
       "      <td>1464</td>\n",
       "      <td>60</td>\n",
       "      <td>RL</td>\n",
       "      <td>78.000</td>\n",
       "      <td>9978</td>\n",
       "      <td>Pave</td>\n",
       "      <td>NaN</td>\n",
       "      <td>IR1</td>\n",
       "      <td>Lvl</td>\n",
       "      <td>AllPub</td>\n",
       "      <td>...</td>\n",
       "      <td>0</td>\n",
       "      <td>0</td>\n",
       "      <td>NaN</td>\n",
       "      <td>NaN</td>\n",
       "      <td>NaN</td>\n",
       "      <td>0</td>\n",
       "      <td>6</td>\n",
       "      <td>2010</td>\n",
       "      <td>WD</td>\n",
       "      <td>Normal</td>\n",
       "    </tr>\n",
       "    <tr>\n",
       "      <th>4</th>\n",
       "      <td>1465</td>\n",
       "      <td>120</td>\n",
       "      <td>RL</td>\n",
       "      <td>43.000</td>\n",
       "      <td>5005</td>\n",
       "      <td>Pave</td>\n",
       "      <td>NaN</td>\n",
       "      <td>IR1</td>\n",
       "      <td>HLS</td>\n",
       "      <td>AllPub</td>\n",
       "      <td>...</td>\n",
       "      <td>144</td>\n",
       "      <td>0</td>\n",
       "      <td>NaN</td>\n",
       "      <td>NaN</td>\n",
       "      <td>NaN</td>\n",
       "      <td>0</td>\n",
       "      <td>1</td>\n",
       "      <td>2010</td>\n",
       "      <td>WD</td>\n",
       "      <td>Normal</td>\n",
       "    </tr>\n",
       "  </tbody>\n",
       "</table>\n",
       "<p>5 rows × 80 columns</p>\n",
       "</div>"
      ],
      "text/plain": [
       "     Id  MSSubClass MSZoning  LotFrontage  LotArea Street Alley LotShape  \\\n",
       "0  1461          20       RH       80.000    11622   Pave   NaN      Reg   \n",
       "1  1462          20       RL       81.000    14267   Pave   NaN      IR1   \n",
       "2  1463          60       RL       74.000    13830   Pave   NaN      IR1   \n",
       "3  1464          60       RL       78.000     9978   Pave   NaN      IR1   \n",
       "4  1465         120       RL       43.000     5005   Pave   NaN      IR1   \n",
       "\n",
       "  LandContour Utilities  ... ScreenPorch PoolArea PoolQC  Fence MiscFeature  \\\n",
       "0         Lvl    AllPub  ...         120        0    NaN  MnPrv         NaN   \n",
       "1         Lvl    AllPub  ...           0        0    NaN    NaN        Gar2   \n",
       "2         Lvl    AllPub  ...           0        0    NaN  MnPrv         NaN   \n",
       "3         Lvl    AllPub  ...           0        0    NaN    NaN         NaN   \n",
       "4         HLS    AllPub  ...         144        0    NaN    NaN         NaN   \n",
       "\n",
       "  MiscVal MoSold  YrSold  SaleType  SaleCondition  \n",
       "0       0      6    2010        WD         Normal  \n",
       "1   12500      6    2010        WD         Normal  \n",
       "2       0      3    2010        WD         Normal  \n",
       "3       0      6    2010        WD         Normal  \n",
       "4       0      1    2010        WD         Normal  \n",
       "\n",
       "[5 rows x 80 columns]"
      ]
     },
     "execution_count": 10,
     "metadata": {},
     "output_type": "execute_result"
    }
   ],
   "source": [
    "test.head()"
   ]
  },
  {
   "cell_type": "code",
   "execution_count": 11,
   "id": "daca9dd5",
   "metadata": {
    "execution": {
     "iopub.execute_input": "2024-10-14T20:27:40.075685Z",
     "iopub.status.busy": "2024-10-14T20:27:40.074845Z",
     "iopub.status.idle": "2024-10-14T20:27:40.082202Z",
     "shell.execute_reply": "2024-10-14T20:27:40.081117Z"
    },
    "papermill": {
     "duration": 0.035108,
     "end_time": "2024-10-14T20:27:40.084642",
     "exception": false,
     "start_time": "2024-10-14T20:27:40.049534",
     "status": "completed"
    },
    "tags": []
   },
   "outputs": [
    {
     "data": {
      "text/plain": [
       "((1460, 81), (1459, 80))"
      ]
     },
     "execution_count": 11,
     "metadata": {},
     "output_type": "execute_result"
    }
   ],
   "source": [
    "train.shape,test.shape"
   ]
  },
  {
   "cell_type": "code",
   "execution_count": 12,
   "id": "70bbb2d6",
   "metadata": {
    "execution": {
     "iopub.execute_input": "2024-10-14T20:27:40.135466Z",
     "iopub.status.busy": "2024-10-14T20:27:40.134747Z",
     "iopub.status.idle": "2024-10-14T20:27:40.147423Z",
     "shell.execute_reply": "2024-10-14T20:27:40.146207Z"
    },
    "papermill": {
     "duration": 0.040897,
     "end_time": "2024-10-14T20:27:40.149941",
     "exception": false,
     "start_time": "2024-10-14T20:27:40.109044",
     "status": "completed"
    },
    "tags": []
   },
   "outputs": [
    {
     "name": "stdout",
     "output_type": "stream",
     "text": [
      "The train data size before dropping Id feature is : (1460, 81) \n",
      "The test data size before dropping Id feature is : (1459, 80) \n",
      "\n",
      "The train data size after dropping Id feature is : (1460, 80) \n",
      "The test data size after dropping Id feature is : (1459, 79) \n"
     ]
    }
   ],
   "source": [
    "#check the numbers of samples and features\n",
    "print(\"The train data size before dropping Id feature is : {} \".format(train.shape))\n",
    "print(\"The test data size before dropping Id feature is : {} \".format(test.shape))\n",
    "\n",
    "#Save the 'Id' column\n",
    "train_ID = train['Id']\n",
    "test_ID = test['Id']\n",
    "\n",
    "#Now drop the  'Id' colum since it's unnecessary for  the prediction process.\n",
    "train.drop(\"Id\", axis = 1, inplace = True)\n",
    "test.drop(\"Id\", axis = 1, inplace = True)\n",
    "\n",
    "#check again the data size after dropping the 'Id' variable\n",
    "print(\"\\nThe train data size after dropping Id feature is : {} \".format(train.shape)) \n",
    "print(\"The test data size after dropping Id feature is : {} \".format(test.shape))"
   ]
  },
  {
   "cell_type": "markdown",
   "id": "0426ce92",
   "metadata": {
    "papermill": {
     "duration": 0.024032,
     "end_time": "2024-10-14T20:27:40.198374",
     "exception": false,
     "start_time": "2024-10-14T20:27:40.174342",
     "status": "completed"
    },
    "tags": []
   },
   "source": [
    "### Data Processing"
   ]
  },
  {
   "cell_type": "markdown",
   "id": "6096f98f",
   "metadata": {
    "papermill": {
     "duration": 0.024115,
     "end_time": "2024-10-14T20:27:40.246741",
     "exception": false,
     "start_time": "2024-10-14T20:27:40.222626",
     "status": "completed"
    },
    "tags": []
   },
   "source": [
    "**Outliers**"
   ]
  },
  {
   "cell_type": "code",
   "execution_count": 13,
   "id": "5aa6d201",
   "metadata": {
    "execution": {
     "iopub.execute_input": "2024-10-14T20:27:40.298328Z",
     "iopub.status.busy": "2024-10-14T20:27:40.297882Z",
     "iopub.status.idle": "2024-10-14T20:27:40.631676Z",
     "shell.execute_reply": "2024-10-14T20:27:40.630505Z"
    },
    "papermill": {
     "duration": 0.362513,
     "end_time": "2024-10-14T20:27:40.634405",
     "exception": false,
     "start_time": "2024-10-14T20:27:40.271892",
     "status": "completed"
    },
    "tags": []
   },
   "outputs": [
    {
     "data": {
      "image/png": "[encoded data removed]",
      "text/plain": [
       "<Figure size 640x480 with 1 Axes>"
      ]
     },
     "metadata": {},
     "output_type": "display_data"
    }
   ],
   "source": [
    "fig, ax = plt.subplots()\n",
    "ax.scatter(x = train['GrLivArea'], y = train['SalePrice'])\n",
    "plt.ylabel('SalePrice', fontsize=13)\n",
    "plt.xlabel('GrLivArea', fontsize=13)\n",
    "plt.show()"
   ]
  },
  {
   "cell_type": "code",
   "execution_count": 14,
   "id": "6df1b040",
   "metadata": {
    "execution": {
     "iopub.execute_input": "2024-10-14T20:27:40.688570Z",
     "iopub.status.busy": "2024-10-14T20:27:40.688146Z",
     "iopub.status.idle": "2024-10-14T20:27:40.952213Z",
     "shell.execute_reply": "2024-10-14T20:27:40.950948Z"
    },
    "papermill": {
     "duration": 0.293865,
     "end_time": "2024-10-14T20:27:40.954957",
     "exception": false,
     "start_time": "2024-10-14T20:27:40.661092",
     "status": "completed"
    },
    "tags": []
   },
   "outputs": [
    {
     "data": {
      "image/png": "[encoded data removed]",
      "text/plain": [
       "<Figure size 640x480 with 1 Axes>"
      ]
     },
     "metadata": {},
     "output_type": "display_data"
    }
   ],
   "source": [
    "#Deleting outliers\n",
    "train = train.drop(train[(train['GrLivArea']>4000) & (train['SalePrice']<300000)].index)\n",
    "\n",
    "#Check the graphic again\n",
    "fig, ax = plt.subplots()\n",
    "ax.scatter(train['GrLivArea'], train['SalePrice'])\n",
    "plt.ylabel('SalePrice', fontsize=13)\n",
    "plt.xlabel('GrLivArea', fontsize=13)\n",
    "plt.show()"
   ]
  },
  {
   "cell_type": "markdown",
   "id": "215b7613",
   "metadata": {
    "papermill": {
     "duration": 0.026004,
     "end_time": "2024-10-14T20:27:41.007839",
     "exception": false,
     "start_time": "2024-10-14T20:27:40.981835",
     "status": "completed"
    },
    "tags": []
   },
   "source": [
    "Note :\n",
    "Outliers removal is note always safe. We decided to delete these two as they are very huge and really bad ( extremely large areas for very low prices).\n",
    "\n",
    "There are probably others outliers in the training data. However, removing all them may affect badly our models if ever there were also outliers in the test data. That's why , instead of removing them all, we will just manage to make some of our models robust on them. You can refer to the modelling part of this notebook for that."
   ]
  },
  {
   "cell_type": "markdown",
   "id": "ad6e854c",
   "metadata": {
    "papermill": {
     "duration": 0.02661,
     "end_time": "2024-10-14T20:27:41.060943",
     "exception": false,
     "start_time": "2024-10-14T20:27:41.034333",
     "status": "completed"
    },
    "tags": []
   },
   "source": [
    "#### Target Variable\n",
    "\n",
    "**SalePrice** is the variable we need to predict. So let's do some analysis on this variable first."
   ]
  },
  {
   "cell_type": "code",
   "execution_count": 15,
   "id": "e11e9bca",
   "metadata": {
    "execution": {
     "iopub.execute_input": "2024-10-14T20:27:41.116872Z",
     "iopub.status.busy": "2024-10-14T20:27:41.116338Z",
     "iopub.status.idle": "2024-10-14T20:27:42.018958Z",
     "shell.execute_reply": "2024-10-14T20:27:42.017726Z"
    },
    "papermill": {
     "duration": 0.934487,
     "end_time": "2024-10-14T20:27:42.021922",
     "exception": false,
     "start_time": "2024-10-14T20:27:41.087435",
     "status": "completed"
    },
    "tags": []
   },
   "outputs": [
    {
     "name": "stdout",
     "output_type": "stream",
     "text": [
      "\n",
      " mu = 180932.92 and sigma = 79467.79\n",
      "\n"
     ]
    },
    {
     "data": {
      "image/png": "[encoded data removed]",
      "text/plain": [
       "<Figure size 640x480 with 1 Axes>"
      ]
     },
     "metadata": {},
     "output_type": "display_data"
    },
    {
     "data": {
      "image/png": "[encoded data removed]",
      "text/plain": [
       "<Figure size 640x480 with 1 Axes>"
      ]
     },
     "metadata": {},
     "output_type": "display_data"
    }
   ],
   "source": [
    "# Plot the distribution using sns.histplot and add a KDE (kernel density estimate) curve\n",
    "sns.histplot(train['SalePrice'], kde=True, stat=\"density\", bins=30, color='blue')\n",
    "\n",
    "# Get the fitted parameters used by the function\n",
    "(mu, sigma) = norm.fit(train['SalePrice'])\n",
    "print('\\n mu = {:.2f} and sigma = {:.2f}\\n'.format(mu, sigma))\n",
    "\n",
    "# Plot the fitted normal distribution curve\n",
    "xmin, xmax = plt.xlim()\n",
    "x = np.linspace(xmin, xmax, 100)\n",
    "p = norm.pdf(x, mu, sigma)\n",
    "plt.plot(x, p, 'r', linewidth=2)\n",
    "\n",
    "# Add title, labels, and legend\n",
    "plt.legend(['Normal dist. ($\\mu=$ {:.2f} and $\\sigma=$ {:.2f} )'.format(mu, sigma)],\n",
    "           loc='best')\n",
    "plt.ylabel('Frequency')\n",
    "plt.title('SalePrice distribution')\n",
    "\n",
    "# Show the QQ-plot to check the normality visually\n",
    "fig = plt.figure()\n",
    "res = probplot(train['SalePrice'], plot=plt)  # Use probplot directly from scipy.stats\n",
    "plt.show()"
   ]
  },
  {
   "cell_type": "code",
   "execution_count": 16,
   "id": "bf626313",
   "metadata": {
    "execution": {
     "iopub.execute_input": "2024-10-14T20:27:42.080084Z",
     "iopub.status.busy": "2024-10-14T20:27:42.079650Z",
     "iopub.status.idle": "2024-10-14T20:27:42.986466Z",
     "shell.execute_reply": "2024-10-14T20:27:42.985259Z"
    },
    "papermill": {
     "duration": 0.938708,
     "end_time": "2024-10-14T20:27:42.989072",
     "exception": false,
     "start_time": "2024-10-14T20:27:42.050364",
     "status": "completed"
    },
    "tags": []
   },
   "outputs": [
    {
     "name": "stdout",
     "output_type": "stream",
     "text": [
      "\n",
      " mu = 12.02 and sigma = 0.40\n",
      "\n"
     ]
    },
    {
     "data": {
      "image/png": "[encoded data removed]",
      "text/plain": [
       "<Figure size 640x480 with 1 Axes>"
      ]
     },
     "metadata": {},
     "output_type": "display_data"
    },
    {
     "data": {
      "image/png": "[encoded data removed]",
      "text/plain": [
       "<Figure size 640x480 with 1 Axes>"
      ]
     },
     "metadata": {},
     "output_type": "display_data"
    }
   ],
   "source": [
    "# Apply the log(1+x) transformation to the SalePrice column\n",
    "train[\"SalePrice\"] = np.log1p(train[\"SalePrice\"])\n",
    "\n",
    "# Check the new distribution using sns.histplot\n",
    "sns.histplot(train['SalePrice'], kde=True, stat=\"density\", bins=30, color='blue')\n",
    "\n",
    "# Get the fitted parameters used by the function\n",
    "(mu, sigma) = norm.fit(train['SalePrice'])\n",
    "print('\\n mu = {:.2f} and sigma = {:.2f}\\n'.format(mu, sigma))\n",
    "\n",
    "# Plot the fitted normal distribution curve\n",
    "xmin, xmax = plt.xlim()\n",
    "x = np.linspace(xmin, xmax, 100)\n",
    "p = norm.pdf(x, mu, sigma)\n",
    "plt.plot(x, p, 'r', linewidth=2)\n",
    "\n",
    "# Add title, labels, and legend\n",
    "plt.legend(['Normal dist. ($\\mu=$ {:.2f} and $\\sigma=$ {:.2f} )'.format(mu, sigma)],\n",
    "           loc='best')\n",
    "plt.ylabel('Density')\n",
    "plt.title('SalePrice Distribution (Log-Transformed)')\n",
    "\n",
    "# Show the QQ-plot to check the normality visually\n",
    "fig = plt.figure()\n",
    "res = probplot(train['SalePrice'], plot=plt)  # Use probplot directly from scipy.stats\n",
    "plt.show()"
   ]
  },
  {
   "cell_type": "markdown",
   "id": "6b702cbf",
   "metadata": {
    "papermill": {
     "duration": 0.029025,
     "end_time": "2024-10-14T20:27:43.047143",
     "exception": false,
     "start_time": "2024-10-14T20:27:43.018118",
     "status": "completed"
    },
    "tags": []
   },
   "source": [
    "### Feature Engineering"
   ]
  },
  {
   "cell_type": "markdown",
   "id": "42963458",
   "metadata": {
    "papermill": {
     "duration": 0.028176,
     "end_time": "2024-10-14T20:27:43.103969",
     "exception": false,
     "start_time": "2024-10-14T20:27:43.075793",
     "status": "completed"
    },
    "tags": []
   },
   "source": [
    "Merge both training and test dataset"
   ]
  },
  {
   "cell_type": "code",
   "execution_count": 17,
   "id": "ca1d64c0",
   "metadata": {
    "execution": {
     "iopub.execute_input": "2024-10-14T20:27:43.165597Z",
     "iopub.status.busy": "2024-10-14T20:27:43.164406Z",
     "iopub.status.idle": "2024-10-14T20:27:43.195383Z",
     "shell.execute_reply": "2024-10-14T20:27:43.194001Z"
    },
    "papermill": {
     "duration": 0.065613,
     "end_time": "2024-10-14T20:27:43.197962",
     "exception": false,
     "start_time": "2024-10-14T20:27:43.132349",
     "status": "completed"
    },
    "tags": []
   },
   "outputs": [
    {
     "name": "stdout",
     "output_type": "stream",
     "text": [
      "all_data size is : (2917, 79)\n"
     ]
    }
   ],
   "source": [
    "ntrain = train.shape[0]\n",
    "ntest = test.shape[0]\n",
    "y_train = train.SalePrice.values\n",
    "all_data = pd.concat((train, test)).reset_index(drop=True)\n",
    "all_data.drop(['SalePrice'], axis=1, inplace=True)\n",
    "print(\"all_data size is : {}\".format(all_data.shape))"
   ]
  },
  {
   "cell_type": "markdown",
   "id": "17518118",
   "metadata": {
    "papermill": {
     "duration": 0.031414,
     "end_time": "2024-10-14T20:27:43.258385",
     "exception": false,
     "start_time": "2024-10-14T20:27:43.226971",
     "status": "completed"
    },
    "tags": []
   },
   "source": [
    "##### Check for null Values"
   ]
  },
  {
   "cell_type": "code",
   "execution_count": 18,
   "id": "04e6ca45",
   "metadata": {
    "execution": {
     "iopub.execute_input": "2024-10-14T20:27:43.317442Z",
     "iopub.status.busy": "2024-10-14T20:27:43.316892Z",
     "iopub.status.idle": "2024-10-14T20:27:43.343695Z",
     "shell.execute_reply": "2024-10-14T20:27:43.342570Z"
    },
    "papermill": {
     "duration": 0.059295,
     "end_time": "2024-10-14T20:27:43.346402",
     "exception": false,
     "start_time": "2024-10-14T20:27:43.287107",
     "status": "completed"
    },
    "tags": []
   },
   "outputs": [
    {
     "data": {
      "text/plain": [
       "PoolQC          2908\n",
       "MiscFeature     2812\n",
       "Alley           2719\n",
       "Fence           2346\n",
       "MasVnrType      1766\n",
       "FireplaceQu     1420\n",
       "LotFrontage      486\n",
       "GarageQual       159\n",
       "GarageYrBlt      159\n",
       "GarageCond       159\n",
       "GarageFinish     159\n",
       "GarageType       157\n",
       "BsmtExposure      82\n",
       "BsmtCond          82\n",
       "BsmtQual          81\n",
       "BsmtFinType2      80\n",
       "BsmtFinType1      79\n",
       "MasVnrArea        23\n",
       "MSZoning           4\n",
       "BsmtFullBath       2\n",
       "Functional         2\n",
       "BsmtHalfBath       2\n",
       "Utilities          2\n",
       "BsmtFinSF1         1\n",
       "Exterior2nd        1\n",
       "Exterior1st        1\n",
       "Electrical         1\n",
       "TotalBsmtSF        1\n",
       "BsmtUnfSF          1\n",
       "BsmtFinSF2         1\n",
       "KitchenQual        1\n",
       "GarageArea         1\n",
       "GarageCars         1\n",
       "SaleType           1\n",
       "dtype: int64"
      ]
     },
     "execution_count": 18,
     "metadata": {},
     "output_type": "execute_result"
    }
   ],
   "source": [
    "all_data_nas = all_data.isnull().sum()\n",
    "all_data_nas = all_data_nas[all_data_nas>0]\n",
    "all_data_nas = all_data_nas.sort_values(ascending=False)\n",
    "all_data_nas"
   ]
  },
  {
   "cell_type": "code",
   "execution_count": 19,
   "id": "2eb3d7c4",
   "metadata": {
    "execution": {
     "iopub.execute_input": "2024-10-14T20:27:43.407983Z",
     "iopub.status.busy": "2024-10-14T20:27:43.407545Z",
     "iopub.status.idle": "2024-10-14T20:27:44.222424Z",
     "shell.execute_reply": "2024-10-14T20:27:44.221014Z"
    },
    "papermill": {
     "duration": 0.849428,
     "end_time": "2024-10-14T20:27:44.224956",
     "exception": false,
     "start_time": "2024-10-14T20:27:43.375528",
     "status": "completed"
    },
    "tags": []
   },
   "outputs": [
    {
     "data": {
      "text/plain": [
       "Text(0.5, 1.0, 'Percentage of missing data by feature')"
      ]
     },
     "execution_count": 19,
     "metadata": {},
     "output_type": "execute_result"
    }
   ],
   "source": [
    "f, ax = plt.subplots(figsize=(15, 12))\n",
    "plt.xticks(rotation=\"vertical\")\n",
    "sns.barplot(x=all_data_nas.index, y=(all_data_nas/all_data_nas.shape[0]))\n",
    "plt.xlabel('Features', fontsize=15)\n",
    "plt.ylabel('Percentage of missing values', fontsize=15)\n",
    "plt.title('Percentage of missing data by feature', fontsize=15)"
   ]
  },
  {
   "cell_type": "markdown",
   "id": "b99bb309",
   "metadata": {
    "papermill": {
     "duration": 0.02996,
     "end_time": "2024-10-14T20:27:44.285386",
     "exception": false,
     "start_time": "2024-10-14T20:27:44.255426",
     "status": "completed"
    },
    "tags": []
   },
   "source": [
    "We impute them by proceeding sequentially through features with missing values"
   ]
  },
  {
   "cell_type": "markdown",
   "id": "49557d44",
   "metadata": {
    "papermill": {
     "duration": 0.029902,
     "end_time": "2024-10-14T20:27:44.345580",
     "exception": false,
     "start_time": "2024-10-14T20:27:44.315678",
     "status": "completed"
    },
    "tags": []
   },
   "source": [
    "### Lets try to understand each feature and best path to handle missing values in them. \n",
    "\n",
    "**PoolQC**: Pool quality\n",
    "\t\t\n",
    "       Ex\tExcellent\n",
    "       Gd\tGood\n",
    "       TA\tAverage/Typical\n",
    "       Fa\tFair\n",
    "       NA\tNo Pool\n",
    "       \n",
    "**MiscFeature**: Miscellaneous feature not covered in other categories\n",
    "\t\t\n",
    "       Elev\tElevator\n",
    "       Gar2\t2nd Garage (if not described in garage section)\n",
    "       Othr\tOther\n",
    "       Shed\tShed (over 100 SF)\n",
    "       TenC\tTennis Court\n",
    "       NA\tNone\n",
    "       "
   ]
  },
  {
   "cell_type": "markdown",
   "id": "e3dd74bf",
   "metadata": {
    "papermill": {
     "duration": 0.031223,
     "end_time": "2024-10-14T20:27:44.407064",
     "exception": false,
     "start_time": "2024-10-14T20:27:44.375841",
     "status": "completed"
    },
    "tags": []
   },
   "source": [
    "**PoolQC** : data description says NA means *\"No Pool\"*. That make sense, given the huge ratio of missing value (+99%) and majority of houses have no Pool at all in general."
   ]
  },
  {
   "cell_type": "code",
   "execution_count": 20,
   "id": "7d46f3c3",
   "metadata": {
    "execution": {
     "iopub.execute_input": "2024-10-14T20:27:44.469946Z",
     "iopub.status.busy": "2024-10-14T20:27:44.469222Z",
     "iopub.status.idle": "2024-10-14T20:27:44.476666Z",
     "shell.execute_reply": "2024-10-14T20:27:44.475231Z"
    },
    "papermill": {
     "duration": 0.041609,
     "end_time": "2024-10-14T20:27:44.479084",
     "exception": false,
     "start_time": "2024-10-14T20:27:44.437475",
     "status": "completed"
    },
    "tags": []
   },
   "outputs": [],
   "source": [
    "# We will replace the NA values in this feature as None which mean no Pool\n",
    "all_data[\"PoolQC\"] = all_data[\"PoolQC\"].fillna(\"None\")"
   ]
  },
  {
   "cell_type": "markdown",
   "id": "89cc3c63",
   "metadata": {
    "papermill": {
     "duration": 0.030062,
     "end_time": "2024-10-14T20:27:44.539512",
     "exception": false,
     "start_time": "2024-10-14T20:27:44.509450",
     "status": "completed"
    },
    "tags": []
   },
   "source": [
    "**MiscFeature** : data description says NA means \"no misc feature\""
   ]
  },
  {
   "cell_type": "code",
   "execution_count": 21,
   "id": "5deb54a4",
   "metadata": {
    "execution": {
     "iopub.execute_input": "2024-10-14T20:27:44.602743Z",
     "iopub.status.busy": "2024-10-14T20:27:44.601843Z",
     "iopub.status.idle": "2024-10-14T20:27:44.608426Z",
     "shell.execute_reply": "2024-10-14T20:27:44.607337Z"
    },
    "papermill": {
     "duration": 0.041391,
     "end_time": "2024-10-14T20:27:44.611068",
     "exception": false,
     "start_time": "2024-10-14T20:27:44.569677",
     "status": "completed"
    },
    "tags": []
   },
   "outputs": [],
   "source": [
    "all_data[\"MiscFeature\"] = all_data[\"MiscFeature\"].fillna(\"None\")"
   ]
  },
  {
   "cell_type": "markdown",
   "id": "acbdf78d",
   "metadata": {
    "papermill": {
     "duration": 0.030578,
     "end_time": "2024-10-14T20:27:44.672820",
     "exception": false,
     "start_time": "2024-10-14T20:27:44.642242",
     "status": "completed"
    },
    "tags": []
   },
   "source": [
    "**LotFrontage**: Linear feet of street connected to property\n",
    "\n",
    "[LotFrontage](https://upload.wikimedia.org/wikipedia/commons/b/bc/Lot_map.PNG)"
   ]
  },
  {
   "cell_type": "code",
   "execution_count": 22,
   "id": "9b48bf39",
   "metadata": {
    "execution": {
     "iopub.execute_input": "2024-10-14T20:27:44.736772Z",
     "iopub.status.busy": "2024-10-14T20:27:44.736353Z",
     "iopub.status.idle": "2024-10-14T20:27:44.760496Z",
     "shell.execute_reply": "2024-10-14T20:27:44.759379Z"
    },
    "papermill": {
     "duration": 0.059258,
     "end_time": "2024-10-14T20:27:44.762981",
     "exception": false,
     "start_time": "2024-10-14T20:27:44.703723",
     "status": "completed"
    },
    "tags": []
   },
   "outputs": [
    {
     "data": {
      "text/plain": [
       "Neighborhood\n",
       "Blmngtn    {nan, nan, nan, nan, 43.0, nan, 51.0, 53.0, na...\n",
       "Blueste                                         {24.0, 35.0}\n",
       "BrDale                                          {24.0, 21.0}\n",
       "BrkSide    {nan, nan, 144.0, nan, nan, 50.0, 51.0, 52.0, ...\n",
       "ClearCr    {138.0, nan, 155.0, nan, nan, nan, 62.0, 65.0,...\n",
       "CollgCr    {36.0, 37.0, 38.0, 39.0, 40.0, 41.0, 42.0, 43....\n",
       "Crawfor    {nan, 130.0, nan, nan, nan, nan, nan, nan, nan...\n",
       "Edwards    {128.0, nan, 134.0, nan, nan, nan, 24.0, nan, ...\n",
       "Gilbert    {41.0, 42.0, 50.0, 51.0, 53.0, 54.0, 56.0, 57....\n",
       "IDOTRR     {nan, nan, nan, 40.0, 46.0, nan, nan, 50.0, 52...\n",
       "MeadowV    {36.0, 41.0, 42.0, nan, 44.0, nan, 21.0, nan, ...\n",
       "Mitchel    {129.0, nan, nan, nan, nan, 140.0, nan, nan, n...\n",
       "NAmes      {nan, nan, nan, nan, nan, 26.0, nan, nan, nan,...\n",
       "NPkVill                               {24.0, nan, 53.0, nan}\n",
       "NWAmes     {128.0, nan, 130.0, nan, nan, nan, nan, nan, n...\n",
       "NoRidge    {136.0, nan, nan, nan, 160.0, nan, nan, 174.0,...\n",
       "NridgHt    {129.0, 130.0, 131.0, 134.0, 135.0, 34.0, 36.0...\n",
       "OldTown    {nan, 153.0, nan, 30.0, 33.0, 34.0, 35.0, 40.0...\n",
       "SWISU      {43.0, 50.0, 51.0, 52.0, 55.0, 58.0, 59.0, 60....\n",
       "Sawyer     {39.0, 40.0, 43.0, 44.0, 50.0, 54.0, 55.0, 57....\n",
       "SawyerW    {nan, nan, nan, nan, nan, nan, nan, nan, nan, ...\n",
       "Somerst    {nan, nan, nan, nan, nan, 24.0, 25.0, nan, 30....\n",
       "StoneBr    {28.0, 30.0, 35.0, 38.0, 39.0, 40.0, 41.0, 43....\n",
       "Timber     {130.0, nan, nan, 150.0, 149.0, nan, 42.0, nan...\n",
       "Veenker    {nan, nan, nan, 22.0, 30.0, 32.0, 38.0, 50.0, ...\n",
       "Name: LotFrontage, dtype: object"
      ]
     },
     "execution_count": 22,
     "metadata": {},
     "output_type": "execute_result"
    }
   ],
   "source": [
    "all_data.groupby('Neighborhood')['LotFrontage'].apply(set)"
   ]
  },
  {
   "cell_type": "code",
   "execution_count": 23,
   "id": "68f08012",
   "metadata": {
    "execution": {
     "iopub.execute_input": "2024-10-14T20:27:44.826458Z",
     "iopub.status.busy": "2024-10-14T20:27:44.825883Z",
     "iopub.status.idle": "2024-10-14T20:27:45.570196Z",
     "shell.execute_reply": "2024-10-14T20:27:45.569076Z"
    },
    "papermill": {
     "duration": 0.779774,
     "end_time": "2024-10-14T20:27:45.573577",
     "exception": false,
     "start_time": "2024-10-14T20:27:44.793803",
     "status": "completed"
    },
    "tags": []
   },
   "outputs": [
    {
     "data": {
      "image/png": "[encoded data removed]",
      "text/plain": [
       "<Figure size 1500x1200 with 1 Axes>"
      ]
     },
     "metadata": {},
     "output_type": "display_data"
    },
    {
     "data": {
      "image/png": "[encoded data removed]",
      "text/plain": [
       "<Figure size 1200x1200 with 1 Axes>"
      ]
     },
     "metadata": {},
     "output_type": "display_data"
    }
   ],
   "source": [
    "# Drop rows with null values in 'ValueColumn'\n",
    "df = all_data.dropna(subset=['LotFrontage'])\n",
    "\n",
    "# Set the plot size\n",
    "plt.figure(figsize=(12, 12))\n",
    "\n",
    "# Create a boxplot to show the range of LotFrontage by Neighborhood\n",
    "sns.boxplot(x='Neighborhood', y='LotFrontage', data=df)\n",
    "\n",
    "# Set the title and labels\n",
    "plt.title('LotFrontage Ranges by Neighborhood')\n",
    "plt.xlabel('Neighborhood')\n",
    "plt.ylabel('LotFrontage')\n",
    "\n",
    "# Show the plot\n",
    "plt.xticks(rotation=45)  # Rotate x labels if there are many neighborhoods\n",
    "plt.show()"
   ]
  },
  {
   "cell_type": "code",
   "execution_count": 24,
   "id": "f5d6d209",
   "metadata": {
    "execution": {
     "iopub.execute_input": "2024-10-14T20:27:45.640076Z",
     "iopub.status.busy": "2024-10-14T20:27:45.639645Z",
     "iopub.status.idle": "2024-10-14T20:27:45.661387Z",
     "shell.execute_reply": "2024-10-14T20:27:45.660148Z"
    },
    "papermill": {
     "duration": 0.058173,
     "end_time": "2024-10-14T20:27:45.664074",
     "exception": false,
     "start_time": "2024-10-14T20:27:45.605901",
     "status": "completed"
    },
    "tags": []
   },
   "outputs": [],
   "source": [
    "all_data[\"LotFrontage\"] = all_data.groupby(\"Neighborhood\")[\"LotFrontage\"].transform(lambda x: x.fillna(x.median()))"
   ]
  },
  {
   "cell_type": "markdown",
   "id": "e732c5c2",
   "metadata": {
    "papermill": {
     "duration": 0.032292,
     "end_time": "2024-10-14T20:27:45.729617",
     "exception": false,
     "start_time": "2024-10-14T20:27:45.697325",
     "status": "completed"
    },
    "tags": []
   },
   "source": [
    "**Electrical** : It has one NA value. Since this feature has mostly 'SBrkr', we can set that for the missing value."
   ]
  },
  {
   "cell_type": "code",
   "execution_count": 25,
   "id": "1671446f",
   "metadata": {
    "execution": {
     "iopub.execute_input": "2024-10-14T20:27:45.796376Z",
     "iopub.status.busy": "2024-10-14T20:27:45.795864Z",
     "iopub.status.idle": "2024-10-14T20:27:45.804933Z",
     "shell.execute_reply": "2024-10-14T20:27:45.803830Z"
    },
    "papermill": {
     "duration": 0.045855,
     "end_time": "2024-10-14T20:27:45.807522",
     "exception": false,
     "start_time": "2024-10-14T20:27:45.761667",
     "status": "completed"
    },
    "tags": []
   },
   "outputs": [],
   "source": [
    "all_data['Electrical'] = all_data['Electrical'].fillna(all_data['Electrical'].mode()[0])"
   ]
  },
  {
   "cell_type": "markdown",
   "id": "6997b465",
   "metadata": {
    "papermill": {
     "duration": 0.031777,
     "end_time": "2024-10-14T20:27:45.872127",
     "exception": false,
     "start_time": "2024-10-14T20:27:45.840350",
     "status": "completed"
    },
    "tags": []
   },
   "source": [
    "**KitchenQual**: Only one NA value, and same as Electrical, we set 'TA' (which is the most frequent) for the missing value in KitchenQual."
   ]
  },
  {
   "cell_type": "code",
   "execution_count": 26,
   "id": "1bd46913",
   "metadata": {
    "execution": {
     "iopub.execute_input": "2024-10-14T20:27:45.938609Z",
     "iopub.status.busy": "2024-10-14T20:27:45.937815Z",
     "iopub.status.idle": "2024-10-14T20:27:45.945767Z",
     "shell.execute_reply": "2024-10-14T20:27:45.944667Z"
    },
    "papermill": {
     "duration": 0.0439,
     "end_time": "2024-10-14T20:27:45.948152",
     "exception": false,
     "start_time": "2024-10-14T20:27:45.904252",
     "status": "completed"
    },
    "tags": []
   },
   "outputs": [],
   "source": [
    "all_data['KitchenQual'] = all_data['KitchenQual'].fillna(all_data['KitchenQual'].mode()[0])"
   ]
  },
  {
   "cell_type": "code",
   "execution_count": 27,
   "id": "88eb9a97",
   "metadata": {
    "execution": {
     "iopub.execute_input": "2024-10-14T20:27:46.015138Z",
     "iopub.status.busy": "2024-10-14T20:27:46.014717Z",
     "iopub.status.idle": "2024-10-14T20:27:46.061609Z",
     "shell.execute_reply": "2024-10-14T20:27:46.060381Z"
    },
    "papermill": {
     "duration": 0.083929,
     "end_time": "2024-10-14T20:27:46.064905",
     "exception": false,
     "start_time": "2024-10-14T20:27:45.980976",
     "status": "completed"
    },
    "tags": []
   },
   "outputs": [],
   "source": [
    "imputed_df = handle_missing_data(all_data)"
   ]
  },
  {
   "cell_type": "code",
   "execution_count": 28,
   "id": "14588a3e",
   "metadata": {
    "execution": {
     "iopub.execute_input": "2024-10-14T20:27:46.131628Z",
     "iopub.status.busy": "2024-10-14T20:27:46.131131Z",
     "iopub.status.idle": "2024-10-14T20:27:46.159901Z",
     "shell.execute_reply": "2024-10-14T20:27:46.158627Z"
    },
    "papermill": {
     "duration": 0.065577,
     "end_time": "2024-10-14T20:27:46.162539",
     "exception": false,
     "start_time": "2024-10-14T20:27:46.096962",
     "status": "completed"
    },
    "tags": []
   },
   "outputs": [
    {
     "data": {
      "text/plain": [
       "Series([], dtype: int64)"
      ]
     },
     "execution_count": 28,
     "metadata": {},
     "output_type": "execute_result"
    }
   ],
   "source": [
    "find_missing_values(imputed_df)"
   ]
  },
  {
   "cell_type": "code",
   "execution_count": 29,
   "id": "b7cc1081",
   "metadata": {
    "execution": {
     "iopub.execute_input": "2024-10-14T20:27:46.281090Z",
     "iopub.status.busy": "2024-10-14T20:27:46.280564Z",
     "iopub.status.idle": "2024-10-14T20:27:46.286694Z",
     "shell.execute_reply": "2024-10-14T20:27:46.285402Z"
    },
    "papermill": {
     "duration": 0.042121,
     "end_time": "2024-10-14T20:27:46.289215",
     "exception": false,
     "start_time": "2024-10-14T20:27:46.247094",
     "status": "completed"
    },
    "tags": []
   },
   "outputs": [],
   "source": [
    "all_data = imputed_df"
   ]
  },
  {
   "cell_type": "markdown",
   "id": "5135e24b",
   "metadata": {
    "papermill": {
     "duration": 0.03196,
     "end_time": "2024-10-14T20:27:46.353274",
     "exception": false,
     "start_time": "2024-10-14T20:27:46.321314",
     "status": "completed"
    },
    "tags": []
   },
   "source": [
    "### More Feature Engineering"
   ]
  },
  {
   "cell_type": "markdown",
   "id": "43e49ed7",
   "metadata": {
    "papermill": {
     "duration": 0.033016,
     "end_time": "2024-10-14T20:27:46.418188",
     "exception": false,
     "start_time": "2024-10-14T20:27:46.385172",
     "status": "completed"
    },
    "tags": []
   },
   "source": [
    "**Transforming some numerical variables that are really categorical**"
   ]
  },
  {
   "cell_type": "code",
   "execution_count": 30,
   "id": "e9ac2e91",
   "metadata": {
    "execution": {
     "iopub.execute_input": "2024-10-14T20:27:46.484018Z",
     "iopub.status.busy": "2024-10-14T20:27:46.483555Z",
     "iopub.status.idle": "2024-10-14T20:27:46.498644Z",
     "shell.execute_reply": "2024-10-14T20:27:46.497237Z"
    },
    "papermill": {
     "duration": 0.050819,
     "end_time": "2024-10-14T20:27:46.501029",
     "exception": false,
     "start_time": "2024-10-14T20:27:46.450210",
     "status": "completed"
    },
    "tags": []
   },
   "outputs": [],
   "source": [
    "#MSSubClass=The building class\n",
    "all_data['MSSubClass'] = all_data['MSSubClass'].apply(str)\n",
    "\n",
    "\n",
    "#Changing OverallCond into a categorical variable\n",
    "all_data['OverallCond'] = all_data['OverallCond'].astype(str)\n",
    "\n",
    "\n",
    "#Year and month sold are transformed into categorical features.\n",
    "all_data['YrSold'] = all_data['YrSold'].astype(str)\n",
    "all_data['MoSold'] = all_data['MoSold'].astype(str)"
   ]
  },
  {
   "cell_type": "markdown",
   "id": "fd561a74",
   "metadata": {
    "papermill": {
     "duration": 0.031816,
     "end_time": "2024-10-14T20:27:46.566053",
     "exception": false,
     "start_time": "2024-10-14T20:27:46.534237",
     "status": "completed"
    },
    "tags": []
   },
   "source": [
    "**Adding one more important feature**"
   ]
  },
  {
   "cell_type": "code",
   "execution_count": 31,
   "id": "be1b5473",
   "metadata": {
    "execution": {
     "iopub.execute_input": "2024-10-14T20:27:46.632067Z",
     "iopub.status.busy": "2024-10-14T20:27:46.631626Z",
     "iopub.status.idle": "2024-10-14T20:27:46.638783Z",
     "shell.execute_reply": "2024-10-14T20:27:46.637482Z"
    },
    "papermill": {
     "duration": 0.042831,
     "end_time": "2024-10-14T20:27:46.641131",
     "exception": false,
     "start_time": "2024-10-14T20:27:46.598300",
     "status": "completed"
    },
    "tags": []
   },
   "outputs": [],
   "source": [
    "# Adding total sqfootage feature \n",
    "all_data['TotalSF'] = all_data['TotalBsmtSF'] + all_data['1stFlrSF'] + all_data['2ndFlrSF']"
   ]
  },
  {
   "cell_type": "markdown",
   "id": "5101ff19",
   "metadata": {
    "papermill": {
     "duration": 0.031975,
     "end_time": "2024-10-14T20:27:46.705338",
     "exception": false,
     "start_time": "2024-10-14T20:27:46.673363",
     "status": "completed"
    },
    "tags": []
   },
   "source": [
    "**One hot encoding**"
   ]
  },
  {
   "cell_type": "code",
   "execution_count": 32,
   "id": "fba5a16a",
   "metadata": {
    "execution": {
     "iopub.execute_input": "2024-10-14T20:27:46.771361Z",
     "iopub.status.busy": "2024-10-14T20:27:46.770881Z",
     "iopub.status.idle": "2024-10-14T20:27:46.828477Z",
     "shell.execute_reply": "2024-10-14T20:27:46.827434Z"
    },
    "papermill": {
     "duration": 0.093857,
     "end_time": "2024-10-14T20:27:46.831311",
     "exception": false,
     "start_time": "2024-10-14T20:27:46.737454",
     "status": "completed"
    },
    "tags": []
   },
   "outputs": [],
   "source": [
    "all_data = pd.get_dummies(all_data)"
   ]
  },
  {
   "cell_type": "markdown",
   "id": "a3069d8e",
   "metadata": {
    "papermill": {
     "duration": 0.0317,
     "end_time": "2024-10-14T20:27:46.894985",
     "exception": false,
     "start_time": "2024-10-14T20:27:46.863285",
     "status": "completed"
    },
    "tags": []
   },
   "source": [
    "Split the train and test set "
   ]
  },
  {
   "cell_type": "code",
   "execution_count": 33,
   "id": "248b55e1",
   "metadata": {
    "execution": {
     "iopub.execute_input": "2024-10-14T20:27:46.961033Z",
     "iopub.status.busy": "2024-10-14T20:27:46.960579Z",
     "iopub.status.idle": "2024-10-14T20:27:46.966817Z",
     "shell.execute_reply": "2024-10-14T20:27:46.965731Z"
    },
    "papermill": {
     "duration": 0.04204,
     "end_time": "2024-10-14T20:27:46.969177",
     "exception": false,
     "start_time": "2024-10-14T20:27:46.927137",
     "status": "completed"
    },
    "tags": []
   },
   "outputs": [],
   "source": [
    "train = all_data[:ntrain]\n",
    "test = all_data[ntrain:]"
   ]
  },
  {
   "cell_type": "markdown",
   "id": "55bc60bb",
   "metadata": {
    "papermill": {
     "duration": 0.031522,
     "end_time": "2024-10-14T20:27:47.032801",
     "exception": false,
     "start_time": "2024-10-14T20:27:47.001279",
     "status": "completed"
    },
    "tags": []
   },
   "source": [
    "### Modelling"
   ]
  },
  {
   "cell_type": "markdown",
   "id": "36b712bf",
   "metadata": {
    "papermill": {
     "duration": 0.031654,
     "end_time": "2024-10-14T20:27:47.096331",
     "exception": false,
     "start_time": "2024-10-14T20:27:47.064677",
     "status": "completed"
    },
    "tags": []
   },
   "source": [
    "**Import Libraries**"
   ]
  },
  {
   "cell_type": "code",
   "execution_count": 35,
   "id": "9ca8fa7d",
   "metadata": {
    "execution": {
     "iopub.execute_input": "2024-10-14T20:27:47.162048Z",
     "iopub.status.busy": "2024-10-14T20:27:47.161622Z",
     "iopub.status.idle": "2024-10-14T20:27:48.706082Z",
     "shell.execute_reply": "2024-10-14T20:27:48.704904Z"
    },
    "papermill": {
     "duration": 1.581008,
     "end_time": "2024-10-14T20:27:48.709071",
     "exception": false,
     "start_time": "2024-10-14T20:27:47.128063",
     "status": "completed"
    },
    "tags": []
   },
   "outputs": [],
   "source": [
    "from sklearn.linear_model import ElasticNet, Lasso,  BayesianRidge, LassoLarsIC\n",
    "from sklearn.ensemble import RandomForestRegressor,  GradientBoostingRegressor\n",
    "from sklearn.kernel_ridge import KernelRidge\n",
    "from sklearn.pipeline import make_pipeline\n",
    "from sklearn.preprocessing import RobustScaler\n",
    "from sklearn.base import BaseEstimator, TransformerMixin, RegressorMixin, clone\n",
    "from sklearn.model_selection import KFold, cross_val_score, train_test_split\n",
    "from sklearn.metrics import mean_squared_error\n",
    "import xgboost as xgb\n",
    "import lightgbm as lgb"
   ]
  },
  {
   "cell_type": "markdown",
   "id": "10e2c59a",
   "metadata": {
    "papermill": {
     "duration": 0.031819,
     "end_time": "2024-10-14T20:27:48.773419",
     "exception": false,
     "start_time": "2024-10-14T20:27:48.741600",
     "status": "completed"
    },
    "tags": []
   },
   "source": [
    "#### Base Models"
   ]
  },
  {
   "cell_type": "markdown",
   "id": "2de49143",
   "metadata": {
    "papermill": {
     "duration": 0.031944,
     "end_time": "2024-10-14T20:27:48.837482",
     "exception": false,
     "start_time": "2024-10-14T20:27:48.805538",
     "status": "completed"
    },
    "tags": []
   },
   "source": [
    "**Define a cross validation strategy**\n",
    "\n",
    "We use the **cross_val_score** function of Sklearn. However this function has not a shuffle attribut, we add then one line of code, in order to shuffle the dataset prior to cross-validation"
   ]
  },
  {
   "cell_type": "code",
   "execution_count": 36,
   "id": "b2e1ac37",
   "metadata": {
    "execution": {
     "iopub.execute_input": "2024-10-14T20:27:48.906403Z",
     "iopub.status.busy": "2024-10-14T20:27:48.905674Z",
     "iopub.status.idle": "2024-10-14T20:27:48.912608Z",
     "shell.execute_reply": "2024-10-14T20:27:48.911526Z"
    },
    "papermill": {
     "duration": 0.044162,
     "end_time": "2024-10-14T20:27:48.915008",
     "exception": false,
     "start_time": "2024-10-14T20:27:48.870846",
     "status": "completed"
    },
    "tags": []
   },
   "outputs": [],
   "source": [
    "#Validation function\n",
    "n_folds = 5\n",
    "\n",
    "def rmsle_cv(model):\n",
    "    kf = KFold(n_folds, shuffle=True, random_state=42).get_n_splits(train.values)\n",
    "    rmse= np.sqrt(-cross_val_score(model, train.values, y_train, scoring=\"neg_mean_squared_error\", cv = kf))\n",
    "    return(rmse)"
   ]
  },
  {
   "cell_type": "markdown",
   "id": "3cd37a3b",
   "metadata": {
    "papermill": {
     "duration": 0.031564,
     "end_time": "2024-10-14T20:27:48.978877",
     "exception": false,
     "start_time": "2024-10-14T20:27:48.947313",
     "status": "completed"
    },
    "tags": []
   },
   "source": [
    "**LASSO Regression** :\n",
    "This model may be very sensitive to outliers. So we need to made it more robust on them. For that we use the sklearn's Robustscaler() method on pipeline"
   ]
  },
  {
   "cell_type": "code",
   "execution_count": 37,
   "id": "97255305",
   "metadata": {
    "execution": {
     "iopub.execute_input": "2024-10-14T20:27:49.045368Z",
     "iopub.status.busy": "2024-10-14T20:27:49.044877Z",
     "iopub.status.idle": "2024-10-14T20:27:49.050675Z",
     "shell.execute_reply": "2024-10-14T20:27:49.049520Z"
    },
    "papermill": {
     "duration": 0.042363,
     "end_time": "2024-10-14T20:27:49.053150",
     "exception": false,
     "start_time": "2024-10-14T20:27:49.010787",
     "status": "completed"
    },
    "tags": []
   },
   "outputs": [],
   "source": [
    "lasso = make_pipeline(RobustScaler(), Lasso(alpha =0.0005, random_state=1))"
   ]
  },
  {
   "cell_type": "markdown",
   "id": "2104e65d",
   "metadata": {
    "papermill": {
     "duration": 0.031595,
     "end_time": "2024-10-14T20:27:49.117126",
     "exception": false,
     "start_time": "2024-10-14T20:27:49.085531",
     "status": "completed"
    },
    "tags": []
   },
   "source": [
    "**Elastic Net Regression** : Again made robust to outliers"
   ]
  },
  {
   "cell_type": "code",
   "execution_count": 38,
   "id": "2746451d",
   "metadata": {
    "execution": {
     "iopub.execute_input": "2024-10-14T20:27:49.184705Z",
     "iopub.status.busy": "2024-10-14T20:27:49.183578Z",
     "iopub.status.idle": "2024-10-14T20:27:49.189545Z",
     "shell.execute_reply": "2024-10-14T20:27:49.188103Z"
    },
    "papermill": {
     "duration": 0.0429,
     "end_time": "2024-10-14T20:27:49.192173",
     "exception": false,
     "start_time": "2024-10-14T20:27:49.149273",
     "status": "completed"
    },
    "tags": []
   },
   "outputs": [],
   "source": [
    "ENet = make_pipeline(RobustScaler(), ElasticNet(alpha=0.0005, l1_ratio=.9, random_state=3))"
   ]
  },
  {
   "cell_type": "markdown",
   "id": "7055f37c",
   "metadata": {
    "papermill": {
     "duration": 0.032538,
     "end_time": "2024-10-14T20:27:49.257559",
     "exception": false,
     "start_time": "2024-10-14T20:27:49.225021",
     "status": "completed"
    },
    "tags": []
   },
   "source": [
    "**Kernel Ridge Regression** :"
   ]
  },
  {
   "cell_type": "code",
   "execution_count": 39,
   "id": "71b839ca",
   "metadata": {
    "execution": {
     "iopub.execute_input": "2024-10-14T20:27:49.324898Z",
     "iopub.status.busy": "2024-10-14T20:27:49.323904Z",
     "iopub.status.idle": "2024-10-14T20:27:49.329471Z",
     "shell.execute_reply": "2024-10-14T20:27:49.328389Z"
    },
    "papermill": {
     "duration": 0.041533,
     "end_time": "2024-10-14T20:27:49.331872",
     "exception": false,
     "start_time": "2024-10-14T20:27:49.290339",
     "status": "completed"
    },
    "tags": []
   },
   "outputs": [],
   "source": [
    "KRR = KernelRidge(alpha=0.6, kernel='polynomial', degree=2, coef0=2.5)"
   ]
  },
  {
   "cell_type": "markdown",
   "id": "8f516aa2",
   "metadata": {
    "papermill": {
     "duration": 0.032593,
     "end_time": "2024-10-14T20:27:49.396911",
     "exception": false,
     "start_time": "2024-10-14T20:27:49.364318",
     "status": "completed"
    },
    "tags": []
   },
   "source": [
    "**Gradient Boosting Regression** : With huber loss that makes it robust to outliers"
   ]
  },
  {
   "cell_type": "code",
   "execution_count": 40,
   "id": "3aac2c35",
   "metadata": {
    "execution": {
     "iopub.execute_input": "2024-10-14T20:27:49.464738Z",
     "iopub.status.busy": "2024-10-14T20:27:49.464299Z",
     "iopub.status.idle": "2024-10-14T20:27:49.470315Z",
     "shell.execute_reply": "2024-10-14T20:27:49.468958Z"
    },
    "papermill": {
     "duration": 0.042283,
     "end_time": "2024-10-14T20:27:49.472869",
     "exception": false,
     "start_time": "2024-10-14T20:27:49.430586",
     "status": "completed"
    },
    "tags": []
   },
   "outputs": [],
   "source": [
    "GBoost = GradientBoostingRegressor(n_estimators=3000, learning_rate=0.05,\n",
    "                                   max_depth=4, max_features='sqrt',\n",
    "                                   min_samples_leaf=15, min_samples_split=10, \n",
    "                                   loss='huber', random_state =5)"
   ]
  },
  {
   "cell_type": "markdown",
   "id": "9831cfa0",
   "metadata": {
    "papermill": {
     "duration": 0.032305,
     "end_time": "2024-10-14T20:27:49.537615",
     "exception": false,
     "start_time": "2024-10-14T20:27:49.505310",
     "status": "completed"
    },
    "tags": []
   },
   "source": [
    "**XGBoost** :"
   ]
  },
  {
   "cell_type": "code",
   "execution_count": 41,
   "id": "2ffff3eb",
   "metadata": {
    "execution": {
     "iopub.execute_input": "2024-10-14T20:27:49.605404Z",
     "iopub.status.busy": "2024-10-14T20:27:49.604927Z",
     "iopub.status.idle": "2024-10-14T20:27:49.611399Z",
     "shell.execute_reply": "2024-10-14T20:27:49.610312Z"
    },
    "papermill": {
     "duration": 0.042916,
     "end_time": "2024-10-14T20:27:49.613733",
     "exception": false,
     "start_time": "2024-10-14T20:27:49.570817",
     "status": "completed"
    },
    "tags": []
   },
   "outputs": [],
   "source": [
    "model_xgb = xgb.XGBRegressor(colsample_bytree=0.4603, gamma=0.0468, \n",
    "                             learning_rate=0.05, max_depth=3, \n",
    "                             min_child_weight=1.7817, n_estimators=2200,\n",
    "                             reg_alpha=0.4640, reg_lambda=0.8571,\n",
    "                             subsample=0.5213, silent=1,\n",
    "                             random_state =7, nthread = -1)"
   ]
  },
  {
   "cell_type": "markdown",
   "id": "452a22df",
   "metadata": {
    "papermill": {
     "duration": 0.032024,
     "end_time": "2024-10-14T20:27:49.678053",
     "exception": false,
     "start_time": "2024-10-14T20:27:49.646029",
     "status": "completed"
    },
    "tags": []
   },
   "source": [
    "**LightGBM**"
   ]
  },
  {
   "cell_type": "code",
   "execution_count": 42,
   "id": "8fd492c3",
   "metadata": {
    "execution": {
     "iopub.execute_input": "2024-10-14T20:27:49.745748Z",
     "iopub.status.busy": "2024-10-14T20:27:49.745307Z",
     "iopub.status.idle": "2024-10-14T20:27:49.751649Z",
     "shell.execute_reply": "2024-10-14T20:27:49.750568Z"
    },
    "papermill": {
     "duration": 0.043533,
     "end_time": "2024-10-14T20:27:49.753992",
     "exception": false,
     "start_time": "2024-10-14T20:27:49.710459",
     "status": "completed"
    },
    "tags": []
   },
   "outputs": [],
   "source": [
    "model_lgb = lgb.LGBMRegressor(objective='regression',num_leaves=5,\n",
    "                              learning_rate=0.05, n_estimators=720,\n",
    "                              max_bin = 55, bagging_fraction = 0.8,\n",
    "                              bagging_freq = 5, feature_fraction = 0.2319,\n",
    "                              feature_fraction_seed=9, bagging_seed=9,\n",
    "                              min_data_in_leaf =6, min_sum_hessian_in_leaf = 11)"
   ]
  },
  {
   "cell_type": "markdown",
   "id": "1135660d",
   "metadata": {
    "papermill": {
     "duration": 0.031797,
     "end_time": "2024-10-14T20:27:49.817924",
     "exception": false,
     "start_time": "2024-10-14T20:27:49.786127",
     "status": "completed"
    },
    "tags": []
   },
   "source": [
    "**Base Model Scores**"
   ]
  },
  {
   "cell_type": "code",
   "execution_count": 43,
   "id": "9b69514a",
   "metadata": {
    "execution": {
     "iopub.execute_input": "2024-10-14T20:27:49.884188Z",
     "iopub.status.busy": "2024-10-14T20:27:49.883724Z",
     "iopub.status.idle": "2024-10-14T20:27:51.730054Z",
     "shell.execute_reply": "2024-10-14T20:27:51.728481Z"
    },
    "papermill": {
     "duration": 1.886946,
     "end_time": "2024-10-14T20:27:51.737076",
     "exception": false,
     "start_time": "2024-10-14T20:27:49.850130",
     "status": "completed"
    },
    "tags": []
   },
   "outputs": [
    {
     "name": "stdout",
     "output_type": "stream",
     "text": [
      "\n",
      "Lasso score: 0.1120 (0.0059)\n",
      "\n"
     ]
    }
   ],
   "source": [
    "score = rmsle_cv(lasso)\n",
    "print(\"\\nLasso score: {:.4f} ({:.4f})\\n\".format(score.mean(), score.std()))"
   ]
  },
  {
   "cell_type": "code",
   "execution_count": 44,
   "id": "48a816a6",
   "metadata": {
    "execution": {
     "iopub.execute_input": "2024-10-14T20:27:51.857298Z",
     "iopub.status.busy": "2024-10-14T20:27:51.856843Z",
     "iopub.status.idle": "2024-10-14T20:27:53.838764Z",
     "shell.execute_reply": "2024-10-14T20:27:53.834335Z"
    },
    "papermill": {
     "duration": 2.036243,
     "end_time": "2024-10-14T20:27:53.843055",
     "exception": false,
     "start_time": "2024-10-14T20:27:51.806812",
     "status": "completed"
    },
    "tags": []
   },
   "outputs": [
    {
     "name": "stdout",
     "output_type": "stream",
     "text": [
      "ElasticNet score: 0.1120 (0.0061)\n",
      "\n"
     ]
    }
   ],
   "source": [
    "score = rmsle_cv(ENet)\n",
    "print(\"ElasticNet score: {:.4f} ({:.4f})\\n\".format(score.mean(), score.std()))"
   ]
  },
  {
   "cell_type": "code",
   "execution_count": 45,
   "id": "37b2c00c",
   "metadata": {
    "execution": {
     "iopub.execute_input": "2024-10-14T20:27:53.961075Z",
     "iopub.status.busy": "2024-10-14T20:27:53.960639Z",
     "iopub.status.idle": "2024-10-14T20:27:57.397413Z",
     "shell.execute_reply": "2024-10-14T20:27:57.395184Z"
    },
    "papermill": {
     "duration": 3.491332,
     "end_time": "2024-10-14T20:27:57.401268",
     "exception": false,
     "start_time": "2024-10-14T20:27:53.909936",
     "status": "completed"
    },
    "tags": []
   },
   "outputs": [
    {
     "name": "stdout",
     "output_type": "stream",
     "text": [
      "Kernel Ridge score: 0.5451 (0.1315)\n",
      "\n"
     ]
    }
   ],
   "source": [
    "score = rmsle_cv(KRR)\n",
    "print(\"Kernel Ridge score: {:.4f} ({:.4f})\\n\".format(score.mean(), score.std()))"
   ]
  },
  {
   "cell_type": "code",
   "execution_count": 46,
   "id": "69296198",
   "metadata": {
    "execution": {
     "iopub.execute_input": "2024-10-14T20:27:57.529912Z",
     "iopub.status.busy": "2024-10-14T20:27:57.529469Z",
     "iopub.status.idle": "2024-10-14T20:27:57.534368Z",
     "shell.execute_reply": "2024-10-14T20:27:57.533224Z"
    },
    "papermill": {
     "duration": 0.04186,
     "end_time": "2024-10-14T20:27:57.536614",
     "exception": false,
     "start_time": "2024-10-14T20:27:57.494754",
     "status": "completed"
    },
    "tags": []
   },
   "outputs": [],
   "source": [
    "# score = rmsle_cv(GBoost)\n",
    "# print(\"Gradient Boosting score: {:.4f} ({:.4f})\\n\".format(score.mean(), score.std()))"
   ]
  },
  {
   "cell_type": "code",
   "execution_count": 47,
   "id": "403c63d6",
   "metadata": {
    "execution": {
     "iopub.execute_input": "2024-10-14T20:27:57.603902Z",
     "iopub.status.busy": "2024-10-14T20:27:57.603463Z",
     "iopub.status.idle": "2024-10-14T20:27:57.609068Z",
     "shell.execute_reply": "2024-10-14T20:27:57.607876Z"
    },
    "papermill": {
     "duration": 0.041976,
     "end_time": "2024-10-14T20:27:57.611613",
     "exception": false,
     "start_time": "2024-10-14T20:27:57.569637",
     "status": "completed"
    },
    "tags": []
   },
   "outputs": [],
   "source": [
    "# score = rmsle_cv(model_xgb)\n",
    "# print(\"Xgboost score: {:.4f} ({:.4f})\\n\".format(score.mean(), score.std()))"
   ]
  },
  {
   "cell_type": "markdown",
   "id": "8ca955e8",
   "metadata": {
    "papermill": {
     "duration": 0.032034,
     "end_time": "2024-10-14T20:27:57.676337",
     "exception": false,
     "start_time": "2024-10-14T20:27:57.644303",
     "status": "completed"
    },
    "tags": []
   },
   "source": [
    "### Predictions "
   ]
  },
  {
   "cell_type": "code",
   "execution_count": 48,
   "id": "c62bfef8",
   "metadata": {
    "execution": {
     "iopub.execute_input": "2024-10-14T20:27:57.743203Z",
     "iopub.status.busy": "2024-10-14T20:27:57.742711Z",
     "iopub.status.idle": "2024-10-14T20:27:58.057553Z",
     "shell.execute_reply": "2024-10-14T20:27:58.056405Z"
    },
    "papermill": {
     "duration": 0.351672,
     "end_time": "2024-10-14T20:27:58.060613",
     "exception": false,
     "start_time": "2024-10-14T20:27:57.708941",
     "status": "completed"
    },
    "tags": []
   },
   "outputs": [
    {
     "data": {
      "text/html": [
       "<style>#sk-container-id-1 {\n",
       "  /* Definition of color scheme common for light and dark mode */\n",
       "  --sklearn-color-text: black;\n",
       "  --sklearn-color-line: gray;\n",
       "  /* Definition of color scheme for unfitted estimators */\n",
       "  --sklearn-color-unfitted-level-0: #fff5e6;\n",
       "  --sklearn-color-unfitted-level-1: #f6e4d2;\n",
       "  --sklearn-color-unfitted-level-2: #ffe0b3;\n",
       "  --sklearn-color-unfitted-level-3: chocolate;\n",
       "  /* Definition of color scheme for fitted estimators */\n",
       "  --sklearn-color-fitted-level-0: #f0f8ff;\n",
       "  --sklearn-color-fitted-level-1: #d4ebff;\n",
       "  --sklearn-color-fitted-level-2: #b3dbfd;\n",
       "  --sklearn-color-fitted-level-3: cornflowerblue;\n",
       "\n",
       "  /* Specific color for light theme */\n",
       "  --sklearn-color-text-on-default-background: var(--sg-text-color, var(--theme-code-foreground, var(--jp-content-font-color1, black)));\n",
       "  --sklearn-color-background: var(--sg-background-color, var(--theme-background, var(--jp-layout-color0, white)));\n",
       "  --sklearn-color-border-box: var(--sg-text-color, var(--theme-code-foreground, var(--jp-content-font-color1, black)));\n",
       "  --sklearn-color-icon: #696969;\n",
       "\n",
       "  @media (prefers-color-scheme: dark) {\n",
       "    /* Redefinition of color scheme for dark theme */\n",
       "    --sklearn-color-text-on-default-background: var(--sg-text-color, var(--theme-code-foreground, var(--jp-content-font-color1, white)));\n",
       "    --sklearn-color-background: var(--sg-background-color, var(--theme-background, var(--jp-layout-color0, #111)));\n",
       "    --sklearn-color-border-box: var(--sg-text-color, var(--theme-code-foreground, var(--jp-content-font-color1, white)));\n",
       "    --sklearn-color-icon: #878787;\n",
       "  }\n",
       "}\n",
       "\n",
       "#sk-container-id-1 {\n",
       "  color: var(--sklearn-color-text);\n",
       "}\n",
       "\n",
       "#sk-container-id-1 pre {\n",
       "  padding: 0;\n",
       "}\n",
       "\n",
       "#sk-container-id-1 input.sk-hidden--visually {\n",
       "  border: 0;\n",
       "  clip: rect(1px 1px 1px 1px);\n",
       "  clip: rect(1px, 1px, 1px, 1px);\n",
       "  height: 1px;\n",
       "  margin: -1px;\n",
       "  overflow: hidden;\n",
       "  padding: 0;\n",
       "  position: absolute;\n",
       "  width: 1px;\n",
       "}\n",
       "\n",
       "#sk-container-id-1 div.sk-dashed-wrapped {\n",
       "  border: 1px dashed var(--sklearn-color-line);\n",
       "  margin: 0 0.4em 0.5em 0.4em;\n",
       "  box-sizing: border-box;\n",
       "  padding-bottom: 0.4em;\n",
       "  background-color: var(--sklearn-color-background);\n",
       "}\n",
       "\n",
       "#sk-container-id-1 div.sk-container {\n",
       "  /* jupyter's `normalize.less` sets `[hidden] { display: none; }`\n",
       "     but bootstrap.min.css set `[hidden] { display: none !important; }`\n",
       "     so we also need the `!important` here to be able to override the\n",
       "     default hidden behavior on the sphinx rendered scikit-learn.org.\n",
       "     See: https://github.com/scikit-learn/scikit-learn/issues/21755 */\n",
       "  display: inline-block !important;\n",
       "  position: relative;\n",
       "}\n",
       "\n",
       "#sk-container-id-1 div.sk-text-repr-fallback {\n",
       "  display: none;\n",
       "}\n",
       "\n",
       "div.sk-parallel-item,\n",
       "div.sk-serial,\n",
       "div.sk-item {\n",
       "  /* draw centered vertical line to link estimators */\n",
       "  background-image: linear-gradient(var(--sklearn-color-text-on-default-background), var(--sklearn-color-text-on-default-background));\n",
       "  background-size: 2px 100%;\n",
       "  background-repeat: no-repeat;\n",
       "  background-position: center center;\n",
       "}\n",
       "\n",
       "/* Parallel-specific style estimator block */\n",
       "\n",
       "#sk-container-id-1 div.sk-parallel-item::after {\n",
       "  content: \"\";\n",
       "  width: 100%;\n",
       "  border-bottom: 2px solid var(--sklearn-color-text-on-default-background);\n",
       "  flex-grow: 1;\n",
       "}\n",
       "\n",
       "#sk-container-id-1 div.sk-parallel {\n",
       "  display: flex;\n",
       "  align-items: stretch;\n",
       "  justify-content: center;\n",
       "  background-color: var(--sklearn-color-background);\n",
       "  position: relative;\n",
       "}\n",
       "\n",
       "#sk-container-id-1 div.sk-parallel-item {\n",
       "  display: flex;\n",
       "  flex-direction: column;\n",
       "}\n",
       "\n",
       "#sk-container-id-1 div.sk-parallel-item:first-child::after {\n",
       "  align-self: flex-end;\n",
       "  width: 50%;\n",
       "}\n",
       "\n",
       "#sk-container-id-1 div.sk-parallel-item:last-child::after {\n",
       "  align-self: flex-start;\n",
       "  width: 50%;\n",
       "}\n",
       "\n",
       "#sk-container-id-1 div.sk-parallel-item:only-child::after {\n",
       "  width: 0;\n",
       "}\n",
       "\n",
       "/* Serial-specific style estimator block */\n",
       "\n",
       "#sk-container-id-1 div.sk-serial {\n",
       "  display: flex;\n",
       "  flex-direction: column;\n",
       "  align-items: center;\n",
       "  background-color: var(--sklearn-color-background);\n",
       "  padding-right: 1em;\n",
       "  padding-left: 1em;\n",
       "}\n",
       "\n",
       "\n",
       "/* Toggleable style: style used for estimator/Pipeline/ColumnTransformer box that is\n",
       "clickable and can be expanded/collapsed.\n",
       "- Pipeline and ColumnTransformer use this feature and define the default style\n",
       "- Estimators will overwrite some part of the style using the `sk-estimator` class\n",
       "*/\n",
       "\n",
       "/* Pipeline and ColumnTransformer style (default) */\n",
       "\n",
       "#sk-container-id-1 div.sk-toggleable {\n",
       "  /* Default theme specific background. It is overwritten whether we have a\n",
       "  specific estimator or a Pipeline/ColumnTransformer */\n",
       "  background-color: var(--sklearn-color-background);\n",
       "}\n",
       "\n",
       "/* Toggleable label */\n",
       "#sk-container-id-1 label.sk-toggleable__label {\n",
       "  cursor: pointer;\n",
       "  display: block;\n",
       "  width: 100%;\n",
       "  margin-bottom: 0;\n",
       "  padding: 0.5em;\n",
       "  box-sizing: border-box;\n",
       "  text-align: center;\n",
       "}\n",
       "\n",
       "#sk-container-id-1 label.sk-toggleable__label-arrow:before {\n",
       "  /* Arrow on the left of the label */\n",
       "  content: \"▸\";\n",
       "  float: left;\n",
       "  margin-right: 0.25em;\n",
       "  color: var(--sklearn-color-icon);\n",
       "}\n",
       "\n",
       "#sk-container-id-1 label.sk-toggleable__label-arrow:hover:before {\n",
       "  color: var(--sklearn-color-text);\n",
       "}\n",
       "\n",
       "/* Toggleable content - dropdown */\n",
       "\n",
       "#sk-container-id-1 div.sk-toggleable__content {\n",
       "  max-height: 0;\n",
       "  max-width: 0;\n",
       "  overflow: hidden;\n",
       "  text-align: left;\n",
       "  /* unfitted */\n",
       "  background-color: var(--sklearn-color-unfitted-level-0);\n",
       "}\n",
       "\n",
       "#sk-container-id-1 div.sk-toggleable__content.fitted {\n",
       "  /* fitted */\n",
       "  background-color: var(--sklearn-color-fitted-level-0);\n",
       "}\n",
       "\n",
       "#sk-container-id-1 div.sk-toggleable__content pre {\n",
       "  margin: 0.2em;\n",
       "  border-radius: 0.25em;\n",
       "  color: var(--sklearn-color-text);\n",
       "  /* unfitted */\n",
       "  background-color: var(--sklearn-color-unfitted-level-0);\n",
       "}\n",
       "\n",
       "#sk-container-id-1 div.sk-toggleable__content.fitted pre {\n",
       "  /* unfitted */\n",
       "  background-color: var(--sklearn-color-fitted-level-0);\n",
       "}\n",
       "\n",
       "#sk-container-id-1 input.sk-toggleable__control:checked~div.sk-toggleable__content {\n",
       "  /* Expand drop-down */\n",
       "  max-height: 200px;\n",
       "  max-width: 100%;\n",
       "  overflow: auto;\n",
       "}\n",
       "\n",
       "#sk-container-id-1 input.sk-toggleable__control:checked~label.sk-toggleable__label-arrow:before {\n",
       "  content: \"▾\";\n",
       "}\n",
       "\n",
       "/* Pipeline/ColumnTransformer-specific style */\n",
       "\n",
       "#sk-container-id-1 div.sk-label input.sk-toggleable__control:checked~label.sk-toggleable__label {\n",
       "  color: var(--sklearn-color-text);\n",
       "  background-color: var(--sklearn-color-unfitted-level-2);\n",
       "}\n",
       "\n",
       "#sk-container-id-1 div.sk-label.fitted input.sk-toggleable__control:checked~label.sk-toggleable__label {\n",
       "  background-color: var(--sklearn-color-fitted-level-2);\n",
       "}\n",
       "\n",
       "/* Estimator-specific style */\n",
       "\n",
       "/* Colorize estimator box */\n",
       "#sk-container-id-1 div.sk-estimator input.sk-toggleable__control:checked~label.sk-toggleable__label {\n",
       "  /* unfitted */\n",
       "  background-color: var(--sklearn-color-unfitted-level-2);\n",
       "}\n",
       "\n",
       "#sk-container-id-1 div.sk-estimator.fitted input.sk-toggleable__control:checked~label.sk-toggleable__label {\n",
       "  /* fitted */\n",
       "  background-color: var(--sklearn-color-fitted-level-2);\n",
       "}\n",
       "\n",
       "#sk-container-id-1 div.sk-label label.sk-toggleable__label,\n",
       "#sk-container-id-1 div.sk-label label {\n",
       "  /* The background is the default theme color */\n",
       "  color: var(--sklearn-color-text-on-default-background);\n",
       "}\n",
       "\n",
       "/* On hover, darken the color of the background */\n",
       "#sk-container-id-1 div.sk-label:hover label.sk-toggleable__label {\n",
       "  color: var(--sklearn-color-text);\n",
       "  background-color: var(--sklearn-color-unfitted-level-2);\n",
       "}\n",
       "\n",
       "/* Label box, darken color on hover, fitted */\n",
       "#sk-container-id-1 div.sk-label.fitted:hover label.sk-toggleable__label.fitted {\n",
       "  color: var(--sklearn-color-text);\n",
       "  background-color: var(--sklearn-color-fitted-level-2);\n",
       "}\n",
       "\n",
       "/* Estimator label */\n",
       "\n",
       "#sk-container-id-1 div.sk-label label {\n",
       "  font-family: monospace;\n",
       "  font-weight: bold;\n",
       "  display: inline-block;\n",
       "  line-height: 1.2em;\n",
       "}\n",
       "\n",
       "#sk-container-id-1 div.sk-label-container {\n",
       "  text-align: center;\n",
       "}\n",
       "\n",
       "/* Estimator-specific */\n",
       "#sk-container-id-1 div.sk-estimator {\n",
       "  font-family: monospace;\n",
       "  border: 1px dotted var(--sklearn-color-border-box);\n",
       "  border-radius: 0.25em;\n",
       "  box-sizing: border-box;\n",
       "  margin-bottom: 0.5em;\n",
       "  /* unfitted */\n",
       "  background-color: var(--sklearn-color-unfitted-level-0);\n",
       "}\n",
       "\n",
       "#sk-container-id-1 div.sk-estimator.fitted {\n",
       "  /* fitted */\n",
       "  background-color: var(--sklearn-color-fitted-level-0);\n",
       "}\n",
       "\n",
       "/* on hover */\n",
       "#sk-container-id-1 div.sk-estimator:hover {\n",
       "  /* unfitted */\n",
       "  background-color: var(--sklearn-color-unfitted-level-2);\n",
       "}\n",
       "\n",
       "#sk-container-id-1 div.sk-estimator.fitted:hover {\n",
       "  /* fitted */\n",
       "  background-color: var(--sklearn-color-fitted-level-2);\n",
       "}\n",
       "\n",
       "/* Specification for estimator info (e.g. \"i\" and \"?\") */\n",
       "\n",
       "/* Common style for \"i\" and \"?\" */\n",
       "\n",
       ".sk-estimator-doc-link,\n",
       "a:link.sk-estimator-doc-link,\n",
       "a:visited.sk-estimator-doc-link {\n",
       "  float: right;\n",
       "  font-size: smaller;\n",
       "  line-height: 1em;\n",
       "  font-family: monospace;\n",
       "  background-color: var(--sklearn-color-background);\n",
       "  border-radius: 1em;\n",
       "  height: 1em;\n",
       "  width: 1em;\n",
       "  text-decoration: none !important;\n",
       "  margin-left: 1ex;\n",
       "  /* unfitted */\n",
       "  border: var(--sklearn-color-unfitted-level-1) 1pt solid;\n",
       "  color: var(--sklearn-color-unfitted-level-1);\n",
       "}\n",
       "\n",
       ".sk-estimator-doc-link.fitted,\n",
       "a:link.sk-estimator-doc-link.fitted,\n",
       "a:visited.sk-estimator-doc-link.fitted {\n",
       "  /* fitted */\n",
       "  border: var(--sklearn-color-fitted-level-1) 1pt solid;\n",
       "  color: var(--sklearn-color-fitted-level-1);\n",
       "}\n",
       "\n",
       "/* On hover */\n",
       "div.sk-estimator:hover .sk-estimator-doc-link:hover,\n",
       ".sk-estimator-doc-link:hover,\n",
       "div.sk-label-container:hover .sk-estimator-doc-link:hover,\n",
       ".sk-estimator-doc-link:hover {\n",
       "  /* unfitted */\n",
       "  background-color: var(--sklearn-color-unfitted-level-3);\n",
       "  color: var(--sklearn-color-background);\n",
       "  text-decoration: none;\n",
       "}\n",
       "\n",
       "div.sk-estimator.fitted:hover .sk-estimator-doc-link.fitted:hover,\n",
       ".sk-estimator-doc-link.fitted:hover,\n",
       "div.sk-label-container:hover .sk-estimator-doc-link.fitted:hover,\n",
       ".sk-estimator-doc-link.fitted:hover {\n",
       "  /* fitted */\n",
       "  background-color: var(--sklearn-color-fitted-level-3);\n",
       "  color: var(--sklearn-color-background);\n",
       "  text-decoration: none;\n",
       "}\n",
       "\n",
       "/* Span, style for the box shown on hovering the info icon */\n",
       ".sk-estimator-doc-link span {\n",
       "  display: none;\n",
       "  z-index: 9999;\n",
       "  position: relative;\n",
       "  font-weight: normal;\n",
       "  right: .2ex;\n",
       "  padding: .5ex;\n",
       "  margin: .5ex;\n",
       "  width: min-content;\n",
       "  min-width: 20ex;\n",
       "  max-width: 50ex;\n",
       "  color: var(--sklearn-color-text);\n",
       "  box-shadow: 2pt 2pt 4pt #999;\n",
       "  /* unfitted */\n",
       "  background: var(--sklearn-color-unfitted-level-0);\n",
       "  border: .5pt solid var(--sklearn-color-unfitted-level-3);\n",
       "}\n",
       "\n",
       ".sk-estimator-doc-link.fitted span {\n",
       "  /* fitted */\n",
       "  background: var(--sklearn-color-fitted-level-0);\n",
       "  border: var(--sklearn-color-fitted-level-3);\n",
       "}\n",
       "\n",
       ".sk-estimator-doc-link:hover span {\n",
       "  display: block;\n",
       "}\n",
       "\n",
       "/* \"?\"-specific style due to the `<a>` HTML tag */\n",
       "\n",
       "#sk-container-id-1 a.estimator_doc_link {\n",
       "  float: right;\n",
       "  font-size: 1rem;\n",
       "  line-height: 1em;\n",
       "  font-family: monospace;\n",
       "  background-color: var(--sklearn-color-background);\n",
       "  border-radius: 1rem;\n",
       "  height: 1rem;\n",
       "  width: 1rem;\n",
       "  text-decoration: none;\n",
       "  /* unfitted */\n",
       "  color: var(--sklearn-color-unfitted-level-1);\n",
       "  border: var(--sklearn-color-unfitted-level-1) 1pt solid;\n",
       "}\n",
       "\n",
       "#sk-container-id-1 a.estimator_doc_link.fitted {\n",
       "  /* fitted */\n",
       "  border: var(--sklearn-color-fitted-level-1) 1pt solid;\n",
       "  color: var(--sklearn-color-fitted-level-1);\n",
       "}\n",
       "\n",
       "/* On hover */\n",
       "#sk-container-id-1 a.estimator_doc_link:hover {\n",
       "  /* unfitted */\n",
       "  background-color: var(--sklearn-color-unfitted-level-3);\n",
       "  color: var(--sklearn-color-background);\n",
       "  text-decoration: none;\n",
       "}\n",
       "\n",
       "#sk-container-id-1 a.estimator_doc_link.fitted:hover {\n",
       "  /* fitted */\n",
       "  background-color: var(--sklearn-color-fitted-level-3);\n",
       "}\n",
       "</style><div id=\"sk-container-id-1\" class=\"sk-top-container\"><div class=\"sk-text-repr-fallback\"><pre>Pipeline(steps=[(&#x27;robustscaler&#x27;, RobustScaler()),\n",
       "                (&#x27;lasso&#x27;, Lasso(alpha=0.0005, random_state=1))])</pre><b>In a Jupyter environment, please rerun this cell to show the HTML representation or trust the notebook. <br />On GitHub, the HTML representation is unable to render, please try loading this page with nbviewer.org.</b></div><div class=\"sk-container\" hidden><div class=\"sk-item sk-dashed-wrapped\"><div class=\"sk-label-container\"><div class=\"sk-label fitted sk-toggleable\"><input class=\"sk-toggleable__control sk-hidden--visually\" id=\"sk-estimator-id-1\" type=\"checkbox\" ><label for=\"sk-estimator-id-1\" class=\"sk-toggleable__label fitted sk-toggleable__label-arrow fitted\">&nbsp;&nbsp;Pipeline<a class=\"sk-estimator-doc-link fitted\" rel=\"noreferrer\" target=\"_blank\" href=\"https://scikit-learn.org/1.5/modules/generated/sklearn.pipeline.Pipeline.html\">?<span>Documentation for Pipeline</span></a><span class=\"sk-estimator-doc-link fitted\">i<span>Fitted</span></span></label><div class=\"sk-toggleable__content fitted\"><pre>Pipeline(steps=[(&#x27;robustscaler&#x27;, RobustScaler()),\n",
       "                (&#x27;lasso&#x27;, Lasso(alpha=0.0005, random_state=1))])</pre></div> </div></div><div class=\"sk-serial\"><div class=\"sk-item\"><div class=\"sk-estimator fitted sk-toggleable\"><input class=\"sk-toggleable__control sk-hidden--visually\" id=\"sk-estimator-id-2\" type=\"checkbox\" ><label for=\"sk-estimator-id-2\" class=\"sk-toggleable__label fitted sk-toggleable__label-arrow fitted\">&nbsp;RobustScaler<a class=\"sk-estimator-doc-link fitted\" rel=\"noreferrer\" target=\"_blank\" href=\"https://scikit-learn.org/1.5/modules/generated/sklearn.preprocessing.RobustScaler.html\">?<span>Documentation for RobustScaler</span></a></label><div class=\"sk-toggleable__content fitted\"><pre>RobustScaler()</pre></div> </div></div><div class=\"sk-item\"><div class=\"sk-estimator fitted sk-toggleable\"><input class=\"sk-toggleable__control sk-hidden--visually\" id=\"sk-estimator-id-3\" type=\"checkbox\" ><label for=\"sk-estimator-id-3\" class=\"sk-toggleable__label fitted sk-toggleable__label-arrow fitted\">&nbsp;Lasso<a class=\"sk-estimator-doc-link fitted\" rel=\"noreferrer\" target=\"_blank\" href=\"https://scikit-learn.org/1.5/modules/generated/sklearn.linear_model.Lasso.html\">?<span>Documentation for Lasso</span></a></label><div class=\"sk-toggleable__content fitted\"><pre>Lasso(alpha=0.0005, random_state=1)</pre></div> </div></div></div></div></div></div>"
      ],
      "text/plain": [
       "Pipeline(steps=[('robustscaler', RobustScaler()),\n",
       "                ('lasso', Lasso(alpha=0.0005, random_state=1))])"
      ]
     },
     "execution_count": 48,
     "metadata": {},
     "output_type": "execute_result"
    }
   ],
   "source": [
    "lasso.fit(train, y_train)"
   ]
  },
  {
   "cell_type": "code",
   "execution_count": 49,
   "id": "4aed69bd",
   "metadata": {
    "execution": {
     "iopub.execute_input": "2024-10-14T20:27:58.156146Z",
     "iopub.status.busy": "2024-10-14T20:27:58.155543Z",
     "iopub.status.idle": "2024-10-14T20:27:58.162753Z",
     "shell.execute_reply": "2024-10-14T20:27:58.161799Z"
    },
    "papermill": {
     "duration": 0.059725,
     "end_time": "2024-10-14T20:27:58.167965",
     "exception": false,
     "start_time": "2024-10-14T20:27:58.108240",
     "status": "completed"
    },
    "tags": []
   },
   "outputs": [
    {
     "data": {
      "text/plain": [
       "(1459, 338)"
      ]
     },
     "execution_count": 49,
     "metadata": {},
     "output_type": "execute_result"
    }
   ],
   "source": [
    "test.shape"
   ]
  },
  {
   "cell_type": "code",
   "execution_count": 50,
   "id": "d5898db3",
   "metadata": {
    "execution": {
     "iopub.execute_input": "2024-10-14T20:27:58.238474Z",
     "iopub.status.busy": "2024-10-14T20:27:58.237980Z",
     "iopub.status.idle": "2024-10-14T20:27:58.272335Z",
     "shell.execute_reply": "2024-10-14T20:27:58.270550Z"
    },
    "papermill": {
     "duration": 0.074754,
     "end_time": "2024-10-14T20:27:58.277368",
     "exception": false,
     "start_time": "2024-10-14T20:27:58.202614",
     "status": "completed"
    },
    "tags": []
   },
   "outputs": [],
   "source": [
    "results = lasso.predict(test)"
   ]
  },
  {
   "cell_type": "code",
   "execution_count": 51,
   "id": "37571226",
   "metadata": {
    "execution": {
     "iopub.execute_input": "2024-10-14T20:27:58.405548Z",
     "iopub.status.busy": "2024-10-14T20:27:58.404657Z",
     "iopub.status.idle": "2024-10-14T20:27:58.412557Z",
     "shell.execute_reply": "2024-10-14T20:27:58.411475Z"
    },
    "papermill": {
     "duration": 0.067123,
     "end_time": "2024-10-14T20:27:58.415027",
     "exception": false,
     "start_time": "2024-10-14T20:27:58.347904",
     "status": "completed"
    },
    "tags": []
   },
   "outputs": [],
   "source": [
    "results = [np.expm1(x) for x in results ]"
   ]
  },
  {
   "cell_type": "code",
   "execution_count": 52,
   "id": "ea470a64",
   "metadata": {
    "execution": {
     "iopub.execute_input": "2024-10-14T20:27:58.485836Z",
     "iopub.status.busy": "2024-10-14T20:27:58.484739Z",
     "iopub.status.idle": "2024-10-14T20:27:58.515012Z",
     "shell.execute_reply": "2024-10-14T20:27:58.513754Z"
    },
    "papermill": {
     "duration": 0.069562,
     "end_time": "2024-10-14T20:27:58.517818",
     "exception": false,
     "start_time": "2024-10-14T20:27:58.448256",
     "status": "completed"
    },
    "tags": []
   },
   "outputs": [],
   "source": [
    "test_df = pd.read_csv('../input/house-prices-advanced-regression-techniques/test.csv')"
   ]
  },
  {
   "cell_type": "code",
   "execution_count": 53,
   "id": "ebdb895e",
   "metadata": {
    "execution": {
     "iopub.execute_input": "2024-10-14T20:27:58.588082Z",
     "iopub.status.busy": "2024-10-14T20:27:58.587654Z",
     "iopub.status.idle": "2024-10-14T20:27:58.594404Z",
     "shell.execute_reply": "2024-10-14T20:27:58.593100Z"
    },
    "papermill": {
     "duration": 0.044731,
     "end_time": "2024-10-14T20:27:58.596989",
     "exception": false,
     "start_time": "2024-10-14T20:27:58.552258",
     "status": "completed"
    },
    "tags": []
   },
   "outputs": [],
   "source": [
    "test_df[\"SalePrice\"] = results"
   ]
  },
  {
   "cell_type": "code",
   "execution_count": 54,
   "id": "5ac24f5d",
   "metadata": {
    "execution": {
     "iopub.execute_input": "2024-10-14T20:27:58.667288Z",
     "iopub.status.busy": "2024-10-14T20:27:58.666371Z",
     "iopub.status.idle": "2024-10-14T20:27:58.691457Z",
     "shell.execute_reply": "2024-10-14T20:27:58.690316Z"
    },
    "papermill": {
     "duration": 0.063006,
     "end_time": "2024-10-14T20:27:58.693908",
     "exception": false,
     "start_time": "2024-10-14T20:27:58.630902",
     "status": "completed"
    },
    "tags": []
   },
   "outputs": [
    {
     "data": {
      "text/html": [
       "<div>\n",
       "<style scoped>\n",
       "    .dataframe tbody tr th:only-of-type {\n",
       "        vertical-align: middle;\n",
       "    }\n",
       "\n",
       "    .dataframe tbody tr th {\n",
       "        vertical-align: top;\n",
       "    }\n",
       "\n",
       "    .dataframe thead th {\n",
       "        text-align: right;\n",
       "    }\n",
       "</style>\n",
       "<table border=\"1\" class=\"dataframe\">\n",
       "  <thead>\n",
       "    <tr style=\"text-align: right;\">\n",
       "      <th></th>\n",
       "      <th>Id</th>\n",
       "      <th>MSSubClass</th>\n",
       "      <th>MSZoning</th>\n",
       "      <th>LotFrontage</th>\n",
       "      <th>LotArea</th>\n",
       "      <th>Street</th>\n",
       "      <th>Alley</th>\n",
       "      <th>LotShape</th>\n",
       "      <th>LandContour</th>\n",
       "      <th>Utilities</th>\n",
       "      <th>...</th>\n",
       "      <th>PoolArea</th>\n",
       "      <th>PoolQC</th>\n",
       "      <th>Fence</th>\n",
       "      <th>MiscFeature</th>\n",
       "      <th>MiscVal</th>\n",
       "      <th>MoSold</th>\n",
       "      <th>YrSold</th>\n",
       "      <th>SaleType</th>\n",
       "      <th>SaleCondition</th>\n",
       "      <th>SalePrice</th>\n",
       "    </tr>\n",
       "  </thead>\n",
       "  <tbody>\n",
       "    <tr>\n",
       "      <th>0</th>\n",
       "      <td>1461</td>\n",
       "      <td>20</td>\n",
       "      <td>RH</td>\n",
       "      <td>80.000</td>\n",
       "      <td>11622</td>\n",
       "      <td>Pave</td>\n",
       "      <td>NaN</td>\n",
       "      <td>Reg</td>\n",
       "      <td>Lvl</td>\n",
       "      <td>AllPub</td>\n",
       "      <td>...</td>\n",
       "      <td>0</td>\n",
       "      <td>NaN</td>\n",
       "      <td>MnPrv</td>\n",
       "      <td>NaN</td>\n",
       "      <td>0</td>\n",
       "      <td>6</td>\n",
       "      <td>2010</td>\n",
       "      <td>WD</td>\n",
       "      <td>Normal</td>\n",
       "      <td>120433.917</td>\n",
       "    </tr>\n",
       "    <tr>\n",
       "      <th>1</th>\n",
       "      <td>1462</td>\n",
       "      <td>20</td>\n",
       "      <td>RL</td>\n",
       "      <td>81.000</td>\n",
       "      <td>14267</td>\n",
       "      <td>Pave</td>\n",
       "      <td>NaN</td>\n",
       "      <td>IR1</td>\n",
       "      <td>Lvl</td>\n",
       "      <td>AllPub</td>\n",
       "      <td>...</td>\n",
       "      <td>0</td>\n",
       "      <td>NaN</td>\n",
       "      <td>NaN</td>\n",
       "      <td>Gar2</td>\n",
       "      <td>12500</td>\n",
       "      <td>6</td>\n",
       "      <td>2010</td>\n",
       "      <td>WD</td>\n",
       "      <td>Normal</td>\n",
       "      <td>152381.233</td>\n",
       "    </tr>\n",
       "    <tr>\n",
       "      <th>2</th>\n",
       "      <td>1463</td>\n",
       "      <td>60</td>\n",
       "      <td>RL</td>\n",
       "      <td>74.000</td>\n",
       "      <td>13830</td>\n",
       "      <td>Pave</td>\n",
       "      <td>NaN</td>\n",
       "      <td>IR1</td>\n",
       "      <td>Lvl</td>\n",
       "      <td>AllPub</td>\n",
       "      <td>...</td>\n",
       "      <td>0</td>\n",
       "      <td>NaN</td>\n",
       "      <td>MnPrv</td>\n",
       "      <td>NaN</td>\n",
       "      <td>0</td>\n",
       "      <td>3</td>\n",
       "      <td>2010</td>\n",
       "      <td>WD</td>\n",
       "      <td>Normal</td>\n",
       "      <td>178483.518</td>\n",
       "    </tr>\n",
       "    <tr>\n",
       "      <th>3</th>\n",
       "      <td>1464</td>\n",
       "      <td>60</td>\n",
       "      <td>RL</td>\n",
       "      <td>78.000</td>\n",
       "      <td>9978</td>\n",
       "      <td>Pave</td>\n",
       "      <td>NaN</td>\n",
       "      <td>IR1</td>\n",
       "      <td>Lvl</td>\n",
       "      <td>AllPub</td>\n",
       "      <td>...</td>\n",
       "      <td>0</td>\n",
       "      <td>NaN</td>\n",
       "      <td>NaN</td>\n",
       "      <td>NaN</td>\n",
       "      <td>0</td>\n",
       "      <td>6</td>\n",
       "      <td>2010</td>\n",
       "      <td>WD</td>\n",
       "      <td>Normal</td>\n",
       "      <td>201818.691</td>\n",
       "    </tr>\n",
       "    <tr>\n",
       "      <th>4</th>\n",
       "      <td>1465</td>\n",
       "      <td>120</td>\n",
       "      <td>RL</td>\n",
       "      <td>43.000</td>\n",
       "      <td>5005</td>\n",
       "      <td>Pave</td>\n",
       "      <td>NaN</td>\n",
       "      <td>IR1</td>\n",
       "      <td>HLS</td>\n",
       "      <td>AllPub</td>\n",
       "      <td>...</td>\n",
       "      <td>0</td>\n",
       "      <td>NaN</td>\n",
       "      <td>NaN</td>\n",
       "      <td>NaN</td>\n",
       "      <td>0</td>\n",
       "      <td>1</td>\n",
       "      <td>2010</td>\n",
       "      <td>WD</td>\n",
       "      <td>Normal</td>\n",
       "      <td>192558.162</td>\n",
       "    </tr>\n",
       "  </tbody>\n",
       "</table>\n",
       "<p>5 rows × 81 columns</p>\n",
       "</div>"
      ],
      "text/plain": [
       "     Id  MSSubClass MSZoning  LotFrontage  LotArea Street Alley LotShape  \\\n",
       "0  1461          20       RH       80.000    11622   Pave   NaN      Reg   \n",
       "1  1462          20       RL       81.000    14267   Pave   NaN      IR1   \n",
       "2  1463          60       RL       74.000    13830   Pave   NaN      IR1   \n",
       "3  1464          60       RL       78.000     9978   Pave   NaN      IR1   \n",
       "4  1465         120       RL       43.000     5005   Pave   NaN      IR1   \n",
       "\n",
       "  LandContour Utilities  ... PoolArea PoolQC  Fence MiscFeature MiscVal  \\\n",
       "0         Lvl    AllPub  ...        0    NaN  MnPrv         NaN       0   \n",
       "1         Lvl    AllPub  ...        0    NaN    NaN        Gar2   12500   \n",
       "2         Lvl    AllPub  ...        0    NaN  MnPrv         NaN       0   \n",
       "3         Lvl    AllPub  ...        0    NaN    NaN         NaN       0   \n",
       "4         HLS    AllPub  ...        0    NaN    NaN         NaN       0   \n",
       "\n",
       "  MoSold YrSold  SaleType  SaleCondition  SalePrice  \n",
       "0      6   2010        WD         Normal 120433.917  \n",
       "1      6   2010        WD         Normal 152381.233  \n",
       "2      3   2010        WD         Normal 178483.518  \n",
       "3      6   2010        WD         Normal 201818.691  \n",
       "4      1   2010        WD         Normal 192558.162  \n",
       "\n",
       "[5 rows x 81 columns]"
      ]
     },
     "execution_count": 54,
     "metadata": {},
     "output_type": "execute_result"
    }
   ],
   "source": [
    "test_df.head()"
   ]
  },
  {
   "cell_type": "code",
   "execution_count": 55,
   "id": "3dabd1b5",
   "metadata": {
    "execution": {
     "iopub.execute_input": "2024-10-14T20:27:58.763715Z",
     "iopub.status.busy": "2024-10-14T20:27:58.762951Z",
     "iopub.status.idle": "2024-10-14T20:27:58.769237Z",
     "shell.execute_reply": "2024-10-14T20:27:58.768176Z"
    },
    "papermill": {
     "duration": 0.043718,
     "end_time": "2024-10-14T20:27:58.771517",
     "exception": false,
     "start_time": "2024-10-14T20:27:58.727799",
     "status": "completed"
    },
    "tags": []
   },
   "outputs": [],
   "source": [
    "test_df = test_df[['Id', 'SalePrice']]"
   ]
  },
  {
   "cell_type": "code",
   "execution_count": 56,
   "id": "c2637f35",
   "metadata": {
    "execution": {
     "iopub.execute_input": "2024-10-14T20:27:58.841465Z",
     "iopub.status.busy": "2024-10-14T20:27:58.840651Z",
     "iopub.status.idle": "2024-10-14T20:27:58.854524Z",
     "shell.execute_reply": "2024-10-14T20:27:58.853132Z"
    },
    "papermill": {
     "duration": 0.051793,
     "end_time": "2024-10-14T20:27:58.857148",
     "exception": false,
     "start_time": "2024-10-14T20:27:58.805355",
     "status": "completed"
    },
    "tags": []
   },
   "outputs": [],
   "source": [
    "test_df.to_csv(\"submission.csv\", index=False)"
   ]
  },
  {
   "cell_type": "markdown",
   "id": "aa0d806a",
   "metadata": {
    "papermill": {
     "duration": 0.033456,
     "end_time": "2024-10-14T20:27:58.924544",
     "exception": false,
     "start_time": "2024-10-14T20:27:58.891088",
     "status": "completed"
    },
    "tags": []
   },
   "source": [
    "**Save the model to be used later**"
   ]
  },
  {
   "cell_type": "code",
   "execution_count": 57,
   "id": "59ef63e8",
   "metadata": {
    "execution": {
     "iopub.execute_input": "2024-10-14T20:27:58.993903Z",
     "iopub.status.busy": "2024-10-14T20:27:58.993453Z",
     "iopub.status.idle": "2024-10-14T20:27:58.999368Z",
     "shell.execute_reply": "2024-10-14T20:27:58.998234Z"
    },
    "papermill": {
     "duration": 0.04355,
     "end_time": "2024-10-14T20:27:59.001835",
     "exception": false,
     "start_time": "2024-10-14T20:27:58.958285",
     "status": "completed"
    },
    "tags": []
   },
   "outputs": [],
   "source": [
    "import joblib"
   ]
  },
  {
   "cell_type": "code",
   "execution_count": 58,
   "id": "752f8383",
   "metadata": {
    "execution": {
     "iopub.execute_input": "2024-10-14T20:27:59.071793Z",
     "iopub.status.busy": "2024-10-14T20:27:59.070606Z",
     "iopub.status.idle": "2024-10-14T20:27:59.081434Z",
     "shell.execute_reply": "2024-10-14T20:27:59.080238Z"
    },
    "papermill": {
     "duration": 0.048206,
     "end_time": "2024-10-14T20:27:59.083733",
     "exception": false,
     "start_time": "2024-10-14T20:27:59.035527",
     "status": "completed"
    },
    "tags": []
   },
   "outputs": [
    {
     "data": {
      "text/plain": [
       "['lasso_model.pkl']"
      ]
     },
     "execution_count": 58,
     "metadata": {},
     "output_type": "execute_result"
    }
   ],
   "source": [
    "joblib.dump(lasso, 'lasso_model.pkl')"
   ]
  },
  {
   "cell_type": "code",
   "execution_count": null,
   "id": "e6b60bef",
   "metadata": {
    "papermill": {
     "duration": 0.034123,
     "end_time": "2024-10-14T20:27:59.151729",
     "exception": false,
     "start_time": "2024-10-14T20:27:59.117606",
     "status": "completed"
    },
    "tags": []
   },
   "outputs": [],
   "source": []
  },
  {
   "cell_type": "code",
   "execution_count": null,
   "id": "c1d5dd9a",
   "metadata": {},
   "outputs": [],
   "source": []
  }
 ],
 "metadata": {
  "kaggle": {
   "accelerator": "none",
   "dataSources": [
    {
     "databundleVersionId": 868283,
     "sourceId": 5407,
     "sourceType": "competition"
    }
   ],
   "dockerImageVersionId": 30786,
   "isGpuEnabled": false,
   "isInternetEnabled": true,
   "language": "python",
   "sourceType": "notebook"
  },
  "kernelspec": {
   "display_name": "streamlit",
   "language": "python",
   "name": "python3"
  },
  "language_info": {
   "codemirror_mode": {
    "name": "ipython",
    "version": 3
   },
   "file_extension": ".py",
   "mimetype": "text/x-python",
   "name": "python",
   "nbconvert_exporter": "python",
   "pygments_lexer": "ipython3",
   "version": "3.12.7"
  },
  "papermill": {
   "default_parameters": {},
   "duration": 27.045256,
   "end_time": "2024-10-14T20:28:00.009436",
   "environment_variables": {},
   "exception": null,
   "input_path": "__notebook__.ipynb",
   "output_path": "__notebook__.ipynb",
   "parameters": {},
   "start_time": "2024-10-14T20:27:32.964180",
   "version": "2.6.0"
  }
 },
 "nbformat": 4,
 "nbformat_minor": 5
}
